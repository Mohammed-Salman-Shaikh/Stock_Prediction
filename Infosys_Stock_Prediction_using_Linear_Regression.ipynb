{
  "nbformat": 4,
  "nbformat_minor": 0,
  "metadata": {
    "colab": {
      "name": "Infosys_Stock_Prediction_using_Linear_Regression.ipynb",
      "provenance": [],
      "collapsed_sections": []
    },
    "kernelspec": {
      "name": "python3",
      "display_name": "Python 3"
    },
    "language_info": {
      "name": "python"
    }
  },
  "cells": [
    {
      "cell_type": "markdown",
      "metadata": {
        "id": "F6NdGOx1hteM"
      },
      "source": [
        "#Infosys Price Prediction Using Linear Regression"
      ]
    },
    {
      "cell_type": "markdown",
      "metadata": {
        "id": "UEwmQZLZiXjf"
      },
      "source": [
        "Collecting Infosys stock data using Twelvedata API key"
      ]
    },
    {
      "cell_type": "code",
      "metadata": {
        "id": "shFPMggWaB3Z"
      },
      "source": [
        "import requests"
      ],
      "execution_count": 472,
      "outputs": []
    },
    {
      "cell_type": "code",
      "metadata": {
        "id": "CMGujLXrUzJI"
      },
      "source": [
        "api_key = 'c62690a9cb76412088a2427a2394b72f'"
      ],
      "execution_count": 473,
      "outputs": []
    },
    {
      "cell_type": "code",
      "metadata": {
        "id": "nJ__2zne-RoY",
        "colab": {
          "base_uri": "https://localhost:8080/",
          "height": 423
        },
        "outputId": "89cfe228-e3b1-4f6d-c0c0-a7e47c602e37"
      },
      "source": [
        "import pandas as pd\n",
        "\n",
        "ticker = 'INFY:BSE'\n",
        "interval = '1day'\n",
        "\n",
        "api_url = f'https://api.twelvedata.com/time_series?symbol={ticker}&interval={interval}&order=ASC&outputsize=2000&apikey={api_key}'\n",
        "data = requests.get(api_url).json()\n",
        "\n",
        "data1=pd.DataFrame(data['values'])\n",
        "data1"
      ],
      "execution_count": 474,
      "outputs": [
        {
          "output_type": "execute_result",
          "data": {
            "text/html": [
              "<div>\n",
              "<style scoped>\n",
              "    .dataframe tbody tr th:only-of-type {\n",
              "        vertical-align: middle;\n",
              "    }\n",
              "\n",
              "    .dataframe tbody tr th {\n",
              "        vertical-align: top;\n",
              "    }\n",
              "\n",
              "    .dataframe thead th {\n",
              "        text-align: right;\n",
              "    }\n",
              "</style>\n",
              "<table border=\"1\" class=\"dataframe\">\n",
              "  <thead>\n",
              "    <tr style=\"text-align: right;\">\n",
              "      <th></th>\n",
              "      <th>datetime</th>\n",
              "      <th>open</th>\n",
              "      <th>high</th>\n",
              "      <th>low</th>\n",
              "      <th>close</th>\n",
              "      <th>volume</th>\n",
              "    </tr>\n",
              "  </thead>\n",
              "  <tbody>\n",
              "    <tr>\n",
              "      <th>0</th>\n",
              "      <td>2013-08-29</td>\n",
              "      <td>381.87500</td>\n",
              "      <td>390.62500</td>\n",
              "      <td>381.87500</td>\n",
              "      <td>388.62500</td>\n",
              "      <td>940552</td>\n",
              "    </tr>\n",
              "    <tr>\n",
              "      <th>1</th>\n",
              "      <td>2013-08-30</td>\n",
              "      <td>386.37500</td>\n",
              "      <td>390.45001</td>\n",
              "      <td>379.87500</td>\n",
              "      <td>387.53751</td>\n",
              "      <td>618976</td>\n",
              "    </tr>\n",
              "    <tr>\n",
              "      <th>2</th>\n",
              "      <td>2013-09-02</td>\n",
              "      <td>383.25000</td>\n",
              "      <td>390.50000</td>\n",
              "      <td>383.25000</td>\n",
              "      <td>384.66876</td>\n",
              "      <td>485696</td>\n",
              "    </tr>\n",
              "    <tr>\n",
              "      <th>3</th>\n",
              "      <td>2013-09-03</td>\n",
              "      <td>384.25000</td>\n",
              "      <td>386.62500</td>\n",
              "      <td>377.50000</td>\n",
              "      <td>379.23126</td>\n",
              "      <td>332456</td>\n",
              "    </tr>\n",
              "    <tr>\n",
              "      <th>4</th>\n",
              "      <td>2013-09-04</td>\n",
              "      <td>381.25000</td>\n",
              "      <td>392.43750</td>\n",
              "      <td>381.25000</td>\n",
              "      <td>388.23749</td>\n",
              "      <td>793552</td>\n",
              "    </tr>\n",
              "    <tr>\n",
              "      <th>...</th>\n",
              "      <td>...</td>\n",
              "      <td>...</td>\n",
              "      <td>...</td>\n",
              "      <td>...</td>\n",
              "      <td>...</td>\n",
              "      <td>...</td>\n",
              "    </tr>\n",
              "    <tr>\n",
              "      <th>1995</th>\n",
              "      <td>2021-10-08</td>\n",
              "      <td>1704.00000</td>\n",
              "      <td>1731.00000</td>\n",
              "      <td>1698.19995</td>\n",
              "      <td>1723.55005</td>\n",
              "      <td>343733</td>\n",
              "    </tr>\n",
              "    <tr>\n",
              "      <th>1996</th>\n",
              "      <td>2021-10-11</td>\n",
              "      <td>1678.15002</td>\n",
              "      <td>1730.30005</td>\n",
              "      <td>1663.94995</td>\n",
              "      <td>1692.00000</td>\n",
              "      <td>240721</td>\n",
              "    </tr>\n",
              "    <tr>\n",
              "      <th>1997</th>\n",
              "      <td>2021-10-12</td>\n",
              "      <td>1684.00000</td>\n",
              "      <td>1689.00000</td>\n",
              "      <td>1662.00000</td>\n",
              "      <td>1684.80005</td>\n",
              "      <td>313692</td>\n",
              "    </tr>\n",
              "    <tr>\n",
              "      <th>1998</th>\n",
              "      <td>2021-10-13</td>\n",
              "      <td>1692.00000</td>\n",
              "      <td>1713.50000</td>\n",
              "      <td>1681.30005</td>\n",
              "      <td>1708.69995</td>\n",
              "      <td>130135</td>\n",
              "    </tr>\n",
              "    <tr>\n",
              "      <th>1999</th>\n",
              "      <td>2021-10-14</td>\n",
              "      <td>1744.00000</td>\n",
              "      <td>1784.05005</td>\n",
              "      <td>1698.25000</td>\n",
              "      <td>1715.50000</td>\n",
              "      <td>495333</td>\n",
              "    </tr>\n",
              "  </tbody>\n",
              "</table>\n",
              "<p>2000 rows × 6 columns</p>\n",
              "</div>"
            ],
            "text/plain": [
              "        datetime        open        high         low       close  volume\n",
              "0     2013-08-29   381.87500   390.62500   381.87500   388.62500  940552\n",
              "1     2013-08-30   386.37500   390.45001   379.87500   387.53751  618976\n",
              "2     2013-09-02   383.25000   390.50000   383.25000   384.66876  485696\n",
              "3     2013-09-03   384.25000   386.62500   377.50000   379.23126  332456\n",
              "4     2013-09-04   381.25000   392.43750   381.25000   388.23749  793552\n",
              "...          ...         ...         ...         ...         ...     ...\n",
              "1995  2021-10-08  1704.00000  1731.00000  1698.19995  1723.55005  343733\n",
              "1996  2021-10-11  1678.15002  1730.30005  1663.94995  1692.00000  240721\n",
              "1997  2021-10-12  1684.00000  1689.00000  1662.00000  1684.80005  313692\n",
              "1998  2021-10-13  1692.00000  1713.50000  1681.30005  1708.69995  130135\n",
              "1999  2021-10-14  1744.00000  1784.05005  1698.25000  1715.50000  495333\n",
              "\n",
              "[2000 rows x 6 columns]"
            ]
          },
          "metadata": {},
          "execution_count": 474
        }
      ]
    },
    {
      "cell_type": "markdown",
      "metadata": {
        "id": "3RJieJUcjJM0"
      },
      "source": [
        "Importing required Libraries"
      ]
    },
    {
      "cell_type": "code",
      "metadata": {
        "id": "WnvLsd8H-QoS"
      },
      "source": [
        "import pandas as pd\n",
        "import numpy as np\n",
        "from sklearn import metrics\n",
        "%matplotlib inline\n",
        "import matplotlib.pyplot as plt "
      ],
      "execution_count": 476,
      "outputs": []
    },
    {
      "cell_type": "markdown",
      "metadata": {
        "id": "OpmKgxbLj7fQ"
      },
      "source": [
        "Loading Data"
      ]
    },
    {
      "cell_type": "code",
      "metadata": {
        "colab": {
          "base_uri": "https://localhost:8080/",
          "height": 206
        },
        "id": "Bx1WyJTycRb6",
        "outputId": "cdd1e42d-2f84-4678-f81d-7b2c881dcbcc"
      },
      "source": [
        "#data = pd.read_csv(\"data.csv\")\n",
        "\n",
        "data1.head()"
      ],
      "execution_count": 477,
      "outputs": [
        {
          "output_type": "execute_result",
          "data": {
            "text/html": [
              "<div>\n",
              "<style scoped>\n",
              "    .dataframe tbody tr th:only-of-type {\n",
              "        vertical-align: middle;\n",
              "    }\n",
              "\n",
              "    .dataframe tbody tr th {\n",
              "        vertical-align: top;\n",
              "    }\n",
              "\n",
              "    .dataframe thead th {\n",
              "        text-align: right;\n",
              "    }\n",
              "</style>\n",
              "<table border=\"1\" class=\"dataframe\">\n",
              "  <thead>\n",
              "    <tr style=\"text-align: right;\">\n",
              "      <th></th>\n",
              "      <th>datetime</th>\n",
              "      <th>open</th>\n",
              "      <th>high</th>\n",
              "      <th>low</th>\n",
              "      <th>close</th>\n",
              "      <th>volume</th>\n",
              "    </tr>\n",
              "  </thead>\n",
              "  <tbody>\n",
              "    <tr>\n",
              "      <th>0</th>\n",
              "      <td>2013-08-29</td>\n",
              "      <td>381.87500</td>\n",
              "      <td>390.62500</td>\n",
              "      <td>381.87500</td>\n",
              "      <td>388.62500</td>\n",
              "      <td>940552</td>\n",
              "    </tr>\n",
              "    <tr>\n",
              "      <th>1</th>\n",
              "      <td>2013-08-30</td>\n",
              "      <td>386.37500</td>\n",
              "      <td>390.45001</td>\n",
              "      <td>379.87500</td>\n",
              "      <td>387.53751</td>\n",
              "      <td>618976</td>\n",
              "    </tr>\n",
              "    <tr>\n",
              "      <th>2</th>\n",
              "      <td>2013-09-02</td>\n",
              "      <td>383.25000</td>\n",
              "      <td>390.50000</td>\n",
              "      <td>383.25000</td>\n",
              "      <td>384.66876</td>\n",
              "      <td>485696</td>\n",
              "    </tr>\n",
              "    <tr>\n",
              "      <th>3</th>\n",
              "      <td>2013-09-03</td>\n",
              "      <td>384.25000</td>\n",
              "      <td>386.62500</td>\n",
              "      <td>377.50000</td>\n",
              "      <td>379.23126</td>\n",
              "      <td>332456</td>\n",
              "    </tr>\n",
              "    <tr>\n",
              "      <th>4</th>\n",
              "      <td>2013-09-04</td>\n",
              "      <td>381.25000</td>\n",
              "      <td>392.43750</td>\n",
              "      <td>381.25000</td>\n",
              "      <td>388.23749</td>\n",
              "      <td>793552</td>\n",
              "    </tr>\n",
              "  </tbody>\n",
              "</table>\n",
              "</div>"
            ],
            "text/plain": [
              "     datetime       open       high        low      close  volume\n",
              "0  2013-08-29  381.87500  390.62500  381.87500  388.62500  940552\n",
              "1  2013-08-30  386.37500  390.45001  379.87500  387.53751  618976\n",
              "2  2013-09-02  383.25000  390.50000  383.25000  384.66876  485696\n",
              "3  2013-09-03  384.25000  386.62500  377.50000  379.23126  332456\n",
              "4  2013-09-04  381.25000  392.43750  381.25000  388.23749  793552"
            ]
          },
          "metadata": {},
          "execution_count": 477
        }
      ]
    },
    {
      "cell_type": "code",
      "metadata": {
        "id": "8Dz2iuB4JS-2"
      },
      "source": [
        "data1['datetime'] = pd.to_datetime(data1.datetime)"
      ],
      "execution_count": 478,
      "outputs": []
    },
    {
      "cell_type": "code",
      "metadata": {
        "id": "utxDTKAIc70i"
      },
      "source": [
        "data1['open']=data1['open'].astype(float)\n",
        "data1['high']=data1['high'].astype(float)\n",
        "data1['low']=data1['low'].astype(float)\n",
        "data1['close']=data1['close'].astype(float)\n",
        "data1['volume']=data1['volume'].astype(float)"
      ],
      "execution_count": 479,
      "outputs": []
    },
    {
      "cell_type": "code",
      "metadata": {
        "id": "8lwxinRkCXtz",
        "colab": {
          "base_uri": "https://localhost:8080/"
        },
        "outputId": "fb826381-c438-4464-b186-85be270e0a62"
      },
      "source": [
        "data1.shape"
      ],
      "execution_count": 480,
      "outputs": [
        {
          "output_type": "execute_result",
          "data": {
            "text/plain": [
              "(2000, 6)"
            ]
          },
          "metadata": {},
          "execution_count": 480
        }
      ]
    },
    {
      "cell_type": "code",
      "metadata": {
        "colab": {
          "base_uri": "https://localhost:8080/",
          "height": 206
        },
        "id": "_d9puTg7d8te",
        "outputId": "b90b1e98-450f-46e0-a457-ea4cf8816dba"
      },
      "source": [
        "data1.head()"
      ],
      "execution_count": 481,
      "outputs": [
        {
          "output_type": "execute_result",
          "data": {
            "text/html": [
              "<div>\n",
              "<style scoped>\n",
              "    .dataframe tbody tr th:only-of-type {\n",
              "        vertical-align: middle;\n",
              "    }\n",
              "\n",
              "    .dataframe tbody tr th {\n",
              "        vertical-align: top;\n",
              "    }\n",
              "\n",
              "    .dataframe thead th {\n",
              "        text-align: right;\n",
              "    }\n",
              "</style>\n",
              "<table border=\"1\" class=\"dataframe\">\n",
              "  <thead>\n",
              "    <tr style=\"text-align: right;\">\n",
              "      <th></th>\n",
              "      <th>datetime</th>\n",
              "      <th>open</th>\n",
              "      <th>high</th>\n",
              "      <th>low</th>\n",
              "      <th>close</th>\n",
              "      <th>volume</th>\n",
              "    </tr>\n",
              "  </thead>\n",
              "  <tbody>\n",
              "    <tr>\n",
              "      <th>0</th>\n",
              "      <td>2013-08-29</td>\n",
              "      <td>381.875</td>\n",
              "      <td>390.62500</td>\n",
              "      <td>381.875</td>\n",
              "      <td>388.62500</td>\n",
              "      <td>940552.0</td>\n",
              "    </tr>\n",
              "    <tr>\n",
              "      <th>1</th>\n",
              "      <td>2013-08-30</td>\n",
              "      <td>386.375</td>\n",
              "      <td>390.45001</td>\n",
              "      <td>379.875</td>\n",
              "      <td>387.53751</td>\n",
              "      <td>618976.0</td>\n",
              "    </tr>\n",
              "    <tr>\n",
              "      <th>2</th>\n",
              "      <td>2013-09-02</td>\n",
              "      <td>383.250</td>\n",
              "      <td>390.50000</td>\n",
              "      <td>383.250</td>\n",
              "      <td>384.66876</td>\n",
              "      <td>485696.0</td>\n",
              "    </tr>\n",
              "    <tr>\n",
              "      <th>3</th>\n",
              "      <td>2013-09-03</td>\n",
              "      <td>384.250</td>\n",
              "      <td>386.62500</td>\n",
              "      <td>377.500</td>\n",
              "      <td>379.23126</td>\n",
              "      <td>332456.0</td>\n",
              "    </tr>\n",
              "    <tr>\n",
              "      <th>4</th>\n",
              "      <td>2013-09-04</td>\n",
              "      <td>381.250</td>\n",
              "      <td>392.43750</td>\n",
              "      <td>381.250</td>\n",
              "      <td>388.23749</td>\n",
              "      <td>793552.0</td>\n",
              "    </tr>\n",
              "  </tbody>\n",
              "</table>\n",
              "</div>"
            ],
            "text/plain": [
              "    datetime     open       high      low      close    volume\n",
              "0 2013-08-29  381.875  390.62500  381.875  388.62500  940552.0\n",
              "1 2013-08-30  386.375  390.45001  379.875  387.53751  618976.0\n",
              "2 2013-09-02  383.250  390.50000  383.250  384.66876  485696.0\n",
              "3 2013-09-03  384.250  386.62500  377.500  379.23126  332456.0\n",
              "4 2013-09-04  381.250  392.43750  381.250  388.23749  793552.0"
            ]
          },
          "metadata": {},
          "execution_count": 481
        }
      ]
    },
    {
      "cell_type": "code",
      "metadata": {
        "colab": {
          "base_uri": "https://localhost:8080/"
        },
        "id": "vf7KLXWUWw2-",
        "outputId": "18b6d0c0-9cdf-4c4c-f6c4-b5e1fcb184d2"
      },
      "source": [
        "data1.isnull().sum()"
      ],
      "execution_count": 482,
      "outputs": [
        {
          "output_type": "execute_result",
          "data": {
            "text/plain": [
              "datetime    0\n",
              "open        0\n",
              "high        0\n",
              "low         0\n",
              "close       0\n",
              "volume      0\n",
              "dtype: int64"
            ]
          },
          "metadata": {},
          "execution_count": 482
        }
      ]
    },
    {
      "cell_type": "code",
      "metadata": {
        "colab": {
          "base_uri": "https://localhost:8080/"
        },
        "id": "arYVJy8Je5KI",
        "outputId": "4e551a91-d5af-4505-ee4e-a6626e77632e"
      },
      "source": [
        "data1.info()"
      ],
      "execution_count": 483,
      "outputs": [
        {
          "output_type": "stream",
          "name": "stdout",
          "text": [
            "<class 'pandas.core.frame.DataFrame'>\n",
            "RangeIndex: 2000 entries, 0 to 1999\n",
            "Data columns (total 6 columns):\n",
            " #   Column    Non-Null Count  Dtype         \n",
            "---  ------    --------------  -----         \n",
            " 0   datetime  2000 non-null   datetime64[ns]\n",
            " 1   open      2000 non-null   float64       \n",
            " 2   high      2000 non-null   float64       \n",
            " 3   low       2000 non-null   float64       \n",
            " 4   close     2000 non-null   float64       \n",
            " 5   volume    2000 non-null   float64       \n",
            "dtypes: datetime64[ns](1), float64(5)\n",
            "memory usage: 93.9 KB\n"
          ]
        }
      ]
    },
    {
      "cell_type": "code",
      "metadata": {
        "id": "PIJRqt7tCvkJ",
        "colab": {
          "base_uri": "https://localhost:8080/",
          "height": 300
        },
        "outputId": "2ff65952-132c-4c15-a956-b3ed08e254d0"
      },
      "source": [
        "data1.describe()"
      ],
      "execution_count": 484,
      "outputs": [
        {
          "output_type": "execute_result",
          "data": {
            "text/html": [
              "<div>\n",
              "<style scoped>\n",
              "    .dataframe tbody tr th:only-of-type {\n",
              "        vertical-align: middle;\n",
              "    }\n",
              "\n",
              "    .dataframe tbody tr th {\n",
              "        vertical-align: top;\n",
              "    }\n",
              "\n",
              "    .dataframe thead th {\n",
              "        text-align: right;\n",
              "    }\n",
              "</style>\n",
              "<table border=\"1\" class=\"dataframe\">\n",
              "  <thead>\n",
              "    <tr style=\"text-align: right;\">\n",
              "      <th></th>\n",
              "      <th>open</th>\n",
              "      <th>high</th>\n",
              "      <th>low</th>\n",
              "      <th>close</th>\n",
              "      <th>volume</th>\n",
              "    </tr>\n",
              "  </thead>\n",
              "  <tbody>\n",
              "    <tr>\n",
              "      <th>count</th>\n",
              "      <td>2000.000000</td>\n",
              "      <td>2000.000000</td>\n",
              "      <td>2000.000000</td>\n",
              "      <td>2000.000000</td>\n",
              "      <td>2.000000e+03</td>\n",
              "    </tr>\n",
              "    <tr>\n",
              "      <th>mean</th>\n",
              "      <td>684.782878</td>\n",
              "      <td>692.006734</td>\n",
              "      <td>677.352460</td>\n",
              "      <td>684.492450</td>\n",
              "      <td>5.783009e+05</td>\n",
              "    </tr>\n",
              "    <tr>\n",
              "      <th>std</th>\n",
              "      <td>306.894867</td>\n",
              "      <td>309.869332</td>\n",
              "      <td>303.972876</td>\n",
              "      <td>306.958289</td>\n",
              "      <td>8.724304e+05</td>\n",
              "    </tr>\n",
              "    <tr>\n",
              "      <th>min</th>\n",
              "      <td>368.125000</td>\n",
              "      <td>369.375000</td>\n",
              "      <td>361.750000</td>\n",
              "      <td>365.537510</td>\n",
              "      <td>0.000000e+00</td>\n",
              "    </tr>\n",
              "    <tr>\n",
              "      <th>25%</th>\n",
              "      <td>491.250000</td>\n",
              "      <td>495.600010</td>\n",
              "      <td>485.437510</td>\n",
              "      <td>491.137490</td>\n",
              "      <td>2.322110e+05</td>\n",
              "    </tr>\n",
              "    <tr>\n",
              "      <th>50%</th>\n",
              "      <td>573.000000</td>\n",
              "      <td>580.000000</td>\n",
              "      <td>566.100005</td>\n",
              "      <td>573.500000</td>\n",
              "      <td>3.550755e+05</td>\n",
              "    </tr>\n",
              "    <tr>\n",
              "      <th>75%</th>\n",
              "      <td>734.550003</td>\n",
              "      <td>740.050003</td>\n",
              "      <td>728.349980</td>\n",
              "      <td>733.349980</td>\n",
              "      <td>5.911248e+05</td>\n",
              "    </tr>\n",
              "    <tr>\n",
              "      <th>max</th>\n",
              "      <td>1770.849980</td>\n",
              "      <td>1787.500000</td>\n",
              "      <td>1752.199950</td>\n",
              "      <td>1763.449950</td>\n",
              "      <td>1.631485e+07</td>\n",
              "    </tr>\n",
              "  </tbody>\n",
              "</table>\n",
              "</div>"
            ],
            "text/plain": [
              "              open         high          low        close        volume\n",
              "count  2000.000000  2000.000000  2000.000000  2000.000000  2.000000e+03\n",
              "mean    684.782878   692.006734   677.352460   684.492450  5.783009e+05\n",
              "std     306.894867   309.869332   303.972876   306.958289  8.724304e+05\n",
              "min     368.125000   369.375000   361.750000   365.537510  0.000000e+00\n",
              "25%     491.250000   495.600010   485.437510   491.137490  2.322110e+05\n",
              "50%     573.000000   580.000000   566.100005   573.500000  3.550755e+05\n",
              "75%     734.550003   740.050003   728.349980   733.349980  5.911248e+05\n",
              "max    1770.849980  1787.500000  1752.199950  1763.449950  1.631485e+07"
            ]
          },
          "metadata": {},
          "execution_count": 484
        }
      ]
    },
    {
      "cell_type": "code",
      "metadata": {
        "colab": {
          "base_uri": "https://localhost:8080/"
        },
        "id": "1ueUx7tgHuWw",
        "outputId": "f0813444-ccaf-47ab-be35-2f7e356c1cf6"
      },
      "source": [
        "print(len(data1))"
      ],
      "execution_count": 485,
      "outputs": [
        {
          "output_type": "stream",
          "name": "stdout",
          "text": [
            "2000\n"
          ]
        }
      ]
    },
    {
      "cell_type": "code",
      "metadata": {
        "colab": {
          "base_uri": "https://localhost:8080/",
          "height": 297
        },
        "id": "YIPQiFFyDMrn",
        "outputId": "4754afdc-3a93-4250-de34-0ba944d8afae"
      },
      "source": [
        "data1['open'].plot(figsize=(20,6))"
      ],
      "execution_count": 486,
      "outputs": [
        {
          "output_type": "execute_result",
          "data": {
            "text/plain": [
              "<matplotlib.axes._subplots.AxesSubplot at 0x7f5cf469b0d0>"
            ]
          },
          "metadata": {},
          "execution_count": 486
        },
        {
          "output_type": "display_data",
          "data": {
            "image/png": "[encoded data removed]",
            "text/plain": [
              "<Figure size 1440x432 with 1 Axes>"
            ]
          },
          "metadata": {
            "needs_background": "light"
          }
        }
      ]
    },
    {
      "cell_type": "markdown",
      "metadata": {
        "id": "OZAVDYXQkjvx"
      },
      "source": [
        "Separate the Input and Output Columns"
      ]
    },
    {
      "cell_type": "code",
      "metadata": {
        "id": "3SSetGZjM1w9"
      },
      "source": [
        "x = data1[['open', 'high', 'low', 'volume']]\n",
        "y = data1['close']"
      ],
      "execution_count": 487,
      "outputs": []
    },
    {
      "cell_type": "markdown",
      "metadata": {
        "id": "eJVKgjvsmkwm"
      },
      "source": [
        "Spliting the Train and Test data"
      ]
    },
    {
      "cell_type": "code",
      "metadata": {
        "id": "tbRLxPwuO0Jt"
      },
      "source": [
        "from sklearn.model_selection import train_test_split\n",
        "x_train, x_test, y_train, y_test = train_test_split(x,y,train_size=0.999, random_state = 100)"
      ],
      "execution_count": 488,
      "outputs": []
    },
    {
      "cell_type": "code",
      "metadata": {
        "colab": {
          "base_uri": "https://localhost:8080/"
        },
        "id": "1DbjQHu7PEeN",
        "outputId": "495eba95-eebf-4e67-df0a-9d1e7a5c96f1"
      },
      "source": [
        "x_train.shape"
      ],
      "execution_count": 489,
      "outputs": [
        {
          "output_type": "execute_result",
          "data": {
            "text/plain": [
              "(1998, 4)"
            ]
          },
          "metadata": {},
          "execution_count": 489
        }
      ]
    },
    {
      "cell_type": "code",
      "metadata": {
        "colab": {
          "base_uri": "https://localhost:8080/"
        },
        "id": "FY8OXft5PT1w",
        "outputId": "7e958790-0921-4647-9c30-9faa56eb5007"
      },
      "source": [
        "x_test.shape"
      ],
      "execution_count": 490,
      "outputs": [
        {
          "output_type": "execute_result",
          "data": {
            "text/plain": [
              "(2, 4)"
            ]
          },
          "metadata": {},
          "execution_count": 490
        }
      ]
    },
    {
      "cell_type": "markdown",
      "metadata": {
        "id": "pgYv5Hq2m2qm"
      },
      "source": [
        "####Linear Regression Model"
      ]
    },
    {
      "cell_type": "code",
      "metadata": {
        "id": "N4CYWO6FPkFv"
      },
      "source": [
        "from sklearn.linear_model import LinearRegression\n",
        "from sklearn.metrics import confusion_matrix, accuracy_score\n",
        "LR = LinearRegression()"
      ],
      "execution_count": 491,
      "outputs": []
    },
    {
      "cell_type": "markdown",
      "metadata": {
        "id": "PdeuoQ3QnGbs"
      },
      "source": [
        "Fitting the data in the Model"
      ]
    },
    {
      "cell_type": "code",
      "metadata": {
        "colab": {
          "base_uri": "https://localhost:8080/"
        },
        "id": "H7i249wbOX89",
        "outputId": "a036c978-b758-4ceb-d725-8dcfd80dc2b2"
      },
      "source": [
        "LR.fit(x_train,y_train)"
      ],
      "execution_count": 492,
      "outputs": [
        {
          "output_type": "execute_result",
          "data": {
            "text/plain": [
              "LinearRegression(copy_X=True, fit_intercept=True, n_jobs=None, normalize=False)"
            ]
          },
          "metadata": {},
          "execution_count": 492
        }
      ]
    },
    {
      "cell_type": "code",
      "metadata": {
        "colab": {
          "base_uri": "https://localhost:8080/"
        },
        "id": "OjFbFdC1QhiM",
        "outputId": "302ec57f-56e2-40bd-a010-fde4a7929454"
      },
      "source": [
        "print(LR.coef_)"
      ],
      "execution_count": 493,
      "outputs": [
        {
          "output_type": "stream",
          "name": "stdout",
          "text": [
            "[-5.07653314e-01  7.34542323e-01  7.73489997e-01  1.18420438e-07]\n"
          ]
        }
      ]
    },
    {
      "cell_type": "code",
      "metadata": {
        "colab": {
          "base_uri": "https://localhost:8080/"
        },
        "id": "DyJFeirkQ1Vm",
        "outputId": "c5a75e36-ee3d-44a0-8996-b76cc880b56e"
      },
      "source": [
        "print(LR.intercept_)"
      ],
      "execution_count": 494,
      "outputs": [
        {
          "output_type": "stream",
          "name": "stdout",
          "text": [
            "-0.1786765616024013\n"
          ]
        }
      ]
    },
    {
      "cell_type": "markdown",
      "metadata": {
        "id": "QiA1UONshn4z"
      },
      "source": [
        "Prediction"
      ]
    },
    {
      "cell_type": "code",
      "metadata": {
        "colab": {
          "base_uri": "https://localhost:8080/"
        },
        "id": "pOxzXBkDPBjt",
        "outputId": "6a5a6788-c1f9-4794-caf2-12eef190d949"
      },
      "source": [
        "predicted = LR.predict(x_test)\n",
        "print(predicted)"
      ],
      "execution_count": 495,
      "outputs": [
        {
          "output_type": "stream",
          "name": "stdout",
          "text": [
            "[463.06880236 689.19665268]\n"
          ]
        }
      ]
    },
    {
      "cell_type": "code",
      "metadata": {
        "colab": {
          "base_uri": "https://localhost:8080/"
        },
        "id": "XXZ9FMg4RysR",
        "outputId": "0361d40b-bb18-431c-8b6c-0f9b2972421c"
      },
      "source": [
        "predicted.shape"
      ],
      "execution_count": 496,
      "outputs": [
        {
          "output_type": "execute_result",
          "data": {
            "text/plain": [
              "(2,)"
            ]
          },
          "metadata": {},
          "execution_count": 496
        }
      ]
    },
    {
      "cell_type": "code",
      "metadata": {
        "id": "PNQqAajzSOAK"
      },
      "source": [
        "dfr=pd.DataFrame(y_test,predicted)"
      ],
      "execution_count": 497,
      "outputs": []
    },
    {
      "cell_type": "code",
      "metadata": {
        "id": "CmIYAAG8S36h"
      },
      "source": [
        "dfr=pd.DataFrame({'Actual Price':y_test,'Predicted Price':predicted})"
      ],
      "execution_count": 498,
      "outputs": []
    },
    {
      "cell_type": "code",
      "metadata": {
        "colab": {
          "base_uri": "https://localhost:8080/"
        },
        "id": "Q7zq0bcxSnI7",
        "outputId": "8b0d5aa6-e80a-407f-93b5-307c44094a6e"
      },
      "source": [
        "print(dfr)"
      ],
      "execution_count": 499,
      "outputs": [
        {
          "output_type": "stream",
          "name": "stdout",
          "text": [
            "      Actual Price  Predicted Price\n",
            "1025     463.12500       463.068802\n",
            "1208     691.84998       689.196653\n"
          ]
        }
      ]
    },
    {
      "cell_type": "code",
      "metadata": {
        "id": "AFAdbHwnZ3Vv"
      },
      "source": [
        "from sklearn.metrics import confusion_matrix, accuracy_score"
      ],
      "execution_count": 500,
      "outputs": []
    },
    {
      "cell_type": "code",
      "metadata": {
        "id": "ZjZ3_D7YOX_-",
        "colab": {
          "base_uri": "https://localhost:8080/"
        },
        "outputId": "9bbd1982-c3be-4934-8e4a-28d973676a9b"
      },
      "source": [
        "LR.score(x_test,y_test)"
      ],
      "execution_count": 501,
      "outputs": [
        {
          "output_type": "execute_result",
          "data": {
            "text/plain": [
              "0.9997307354148592"
            ]
          },
          "metadata": {},
          "execution_count": 501
        }
      ]
    },
    {
      "cell_type": "code",
      "metadata": {
        "colab": {
          "base_uri": "https://localhost:8080/"
        },
        "id": "JPN92CALpDua",
        "outputId": "d8e8099e-351b-4f3a-90b6-9259df2dda01"
      },
      "source": [
        "import math\n",
        "print('Mean Absolute Error:', metrics.mean_absolute_error(y_test,predicted))\n",
        "print('Mean Squared Error:', metrics.mean_squared_error(y_test,predicted))\n",
        "print('Root Mean Squared Error:', math.sqrt(metrics.mean_squared_error(y_test,predicted)))"
      ],
      "execution_count": 502,
      "outputs": [
        {
          "output_type": "stream",
          "name": "stdout",
          "text": [
            "Mean Absolute Error: 1.354762481230381\n",
            "Mean Squared Error: 3.5216520336255144\n",
            "Root Mean Squared Error: 1.8766065207244471\n"
          ]
        }
      ]
    },
    {
      "cell_type": "code",
      "metadata": {
        "id": "d3TVPlTKY-1a"
      },
      "source": [
        "graph=dfr.head(20)"
      ],
      "execution_count": 503,
      "outputs": []
    },
    {
      "cell_type": "code",
      "metadata": {
        "colab": {
          "base_uri": "https://localhost:8080/",
          "height": 299
        },
        "id": "u6A8-IMzZErB",
        "outputId": "ea15fb73-7363-4946-8ab1-dfef76f0d046"
      },
      "source": [
        "graph.plot(kind='bar')"
      ],
      "execution_count": 504,
      "outputs": [
        {
          "output_type": "execute_result",
          "data": {
            "text/plain": [
              "<matplotlib.axes._subplots.AxesSubplot at 0x7f5cf4538a50>"
            ]
          },
          "metadata": {},
          "execution_count": 504
        },
        {
          "output_type": "display_data",
          "data": {
            "image/png": "[encoded data removed]",
            "text/plain": [
              "<Figure size 432x288 with 1 Axes>"
            ]
          },
          "metadata": {
            "needs_background": "light"
          }
        }
      ]
    }
  ]
}