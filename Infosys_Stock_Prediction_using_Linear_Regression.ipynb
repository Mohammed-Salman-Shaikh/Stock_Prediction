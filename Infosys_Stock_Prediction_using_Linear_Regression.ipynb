{
  "nbformat": 4,
  "nbformat_minor": 0,
  "metadata": {
    "colab": {
      "name": "Infosys_Prediction_using_Linear_Regression.ipynb",
      "provenance": [],
      "collapsed_sections": []
    },
    "kernelspec": {
      "name": "python3",
      "display_name": "Python 3"
    },
    "language_info": {
      "name": "python"
    }
  },
  "cells": [
    {
      "cell_type": "markdown",
      "metadata": {
        "id": "F6NdGOx1hteM"
      },
      "source": [
        "#Infosys Price Prediction Using Linear Regression"
      ]
    },
    {
      "cell_type": "markdown",
      "metadata": {
        "id": "UEwmQZLZiXjf"
      },
      "source": [
        "Collecting Infosys stock data using Twelvedata API key"
      ]
    },
    {
      "cell_type": "code",
      "metadata": {
        "id": "shFPMggWaB3Z"
      },
      "source": [
        "import requests"
      ],
      "execution_count": null,
      "outputs": []
    },
    {
      "cell_type": "code",
      "metadata": {
        "id": "nJ__2zne-RoY"
      },
      "source": [
        "api_key= 'c62690a9cb76412088a2427a2394b72f'"
      ],
      "execution_count": null,
      "outputs": []
    },
    {
      "cell_type": "code",
      "metadata": {
        "id": "fCB2bfSw-QkV"
      },
      "source": [
        "#ticker = 'INFY'\n",
        "#interval = '1day'\n",
        "\n",
        "api_url = 'https://api.twelvedata.com/sub?symbol=INFY&interval=1day&format=CSV&apikey=demo'"
      ],
      "execution_count": null,
      "outputs": []
    },
    {
      "cell_type": "markdown",
      "metadata": {
        "id": "3RJieJUcjJM0"
      },
      "source": [
        "Importing required Libraries"
      ]
    },
    {
      "cell_type": "code",
      "metadata": {
        "id": "WnvLsd8H-QoS"
      },
      "source": [
        "import pandas as pd\n",
        "import numpy as np\n",
        "from sklearn import metrics\n",
        "%matplotlib inline\n",
        "import matplotlib.pyplot as plt "
      ],
      "execution_count": null,
      "outputs": []
    },
    {
      "cell_type": "markdown",
      "metadata": {
        "id": "OpmKgxbLj7fQ"
      },
      "source": [
        "Loading Data"
      ]
    },
    {
      "cell_type": "code",
      "metadata": {
        "colab": {
          "base_uri": "https://localhost:8080/",
          "height": 206
        },
        "id": "Bx1WyJTycRb6",
        "outputId": "ac76b80e-86ab-46b4-d307-c477e116d423"
      },
      "source": [
        "data = pd.read_csv(\"data.csv\")\n",
        "\n",
        "data.head()"
      ],
      "execution_count": null,
      "outputs": [
        {
          "output_type": "execute_result",
          "data": {
            "text/html": [
              "<div>\n",
              "<style scoped>\n",
              "    .dataframe tbody tr th:only-of-type {\n",
              "        vertical-align: middle;\n",
              "    }\n",
              "\n",
              "    .dataframe tbody tr th {\n",
              "        vertical-align: top;\n",
              "    }\n",
              "\n",
              "    .dataframe thead th {\n",
              "        text-align: right;\n",
              "    }\n",
              "</style>\n",
              "<table border=\"1\" class=\"dataframe\">\n",
              "  <thead>\n",
              "    <tr style=\"text-align: right;\">\n",
              "      <th></th>\n",
              "      <th>datetime</th>\n",
              "      <th>open</th>\n",
              "      <th>high</th>\n",
              "      <th>low</th>\n",
              "      <th>close</th>\n",
              "      <th>volume</th>\n",
              "    </tr>\n",
              "  </thead>\n",
              "  <tbody>\n",
              "    <tr>\n",
              "      <th>0</th>\n",
              "      <td>2021-10-14</td>\n",
              "      <td>1744.00000</td>\n",
              "      <td>1784.05005</td>\n",
              "      <td>1698.25000</td>\n",
              "      <td>1715.50000</td>\n",
              "      <td>495333</td>\n",
              "    </tr>\n",
              "    <tr>\n",
              "      <th>1</th>\n",
              "      <td>2021-10-13</td>\n",
              "      <td>1692.00000</td>\n",
              "      <td>1713.50000</td>\n",
              "      <td>1681.30005</td>\n",
              "      <td>1708.69995</td>\n",
              "      <td>130135</td>\n",
              "    </tr>\n",
              "    <tr>\n",
              "      <th>2</th>\n",
              "      <td>2021-10-12</td>\n",
              "      <td>1684.00000</td>\n",
              "      <td>1689.00000</td>\n",
              "      <td>1662.00000</td>\n",
              "      <td>1684.80005</td>\n",
              "      <td>313692</td>\n",
              "    </tr>\n",
              "    <tr>\n",
              "      <th>3</th>\n",
              "      <td>2021-10-11</td>\n",
              "      <td>1678.15002</td>\n",
              "      <td>1730.30005</td>\n",
              "      <td>1663.94995</td>\n",
              "      <td>1692.00000</td>\n",
              "      <td>240721</td>\n",
              "    </tr>\n",
              "    <tr>\n",
              "      <th>4</th>\n",
              "      <td>2021-10-08</td>\n",
              "      <td>1704.00000</td>\n",
              "      <td>1731.00000</td>\n",
              "      <td>1698.19995</td>\n",
              "      <td>1723.55005</td>\n",
              "      <td>343733</td>\n",
              "    </tr>\n",
              "  </tbody>\n",
              "</table>\n",
              "</div>"
            ],
            "text/plain": [
              "     datetime        open        high         low       close  volume\n",
              "0  2021-10-14  1744.00000  1784.05005  1698.25000  1715.50000  495333\n",
              "1  2021-10-13  1692.00000  1713.50000  1681.30005  1708.69995  130135\n",
              "2  2021-10-12  1684.00000  1689.00000  1662.00000  1684.80005  313692\n",
              "3  2021-10-11  1678.15002  1730.30005  1663.94995  1692.00000  240721\n",
              "4  2021-10-08  1704.00000  1731.00000  1698.19995  1723.55005  343733"
            ]
          },
          "metadata": {},
          "execution_count": 904
        }
      ]
    },
    {
      "cell_type": "code",
      "metadata": {
        "id": "8Dz2iuB4JS-2"
      },
      "source": [
        "data['datetime'] = pd.to_datetime(data.datetime)"
      ],
      "execution_count": null,
      "outputs": []
    },
    {
      "cell_type": "code",
      "metadata": {
        "id": "8lwxinRkCXtz",
        "colab": {
          "base_uri": "https://localhost:8080/"
        },
        "outputId": "1a70039a-233f-4254-abe3-871b387dff25"
      },
      "source": [
        "data.shape"
      ],
      "execution_count": null,
      "outputs": [
        {
          "output_type": "execute_result",
          "data": {
            "text/plain": [
              "(200, 6)"
            ]
          },
          "metadata": {},
          "execution_count": 906
        }
      ]
    },
    {
      "cell_type": "code",
      "metadata": {
        "colab": {
          "base_uri": "https://localhost:8080/",
          "height": 206
        },
        "id": "_d9puTg7d8te",
        "outputId": "7a3aef9c-a8c2-444c-d0a1-29349fe7638c"
      },
      "source": [
        "data.head()"
      ],
      "execution_count": null,
      "outputs": [
        {
          "output_type": "execute_result",
          "data": {
            "text/html": [
              "<div>\n",
              "<style scoped>\n",
              "    .dataframe tbody tr th:only-of-type {\n",
              "        vertical-align: middle;\n",
              "    }\n",
              "\n",
              "    .dataframe tbody tr th {\n",
              "        vertical-align: top;\n",
              "    }\n",
              "\n",
              "    .dataframe thead th {\n",
              "        text-align: right;\n",
              "    }\n",
              "</style>\n",
              "<table border=\"1\" class=\"dataframe\">\n",
              "  <thead>\n",
              "    <tr style=\"text-align: right;\">\n",
              "      <th></th>\n",
              "      <th>datetime</th>\n",
              "      <th>open</th>\n",
              "      <th>high</th>\n",
              "      <th>low</th>\n",
              "      <th>close</th>\n",
              "      <th>volume</th>\n",
              "    </tr>\n",
              "  </thead>\n",
              "  <tbody>\n",
              "    <tr>\n",
              "      <th>0</th>\n",
              "      <td>2021-10-14</td>\n",
              "      <td>1744.00000</td>\n",
              "      <td>1784.05005</td>\n",
              "      <td>1698.25000</td>\n",
              "      <td>1715.50000</td>\n",
              "      <td>495333</td>\n",
              "    </tr>\n",
              "    <tr>\n",
              "      <th>1</th>\n",
              "      <td>2021-10-13</td>\n",
              "      <td>1692.00000</td>\n",
              "      <td>1713.50000</td>\n",
              "      <td>1681.30005</td>\n",
              "      <td>1708.69995</td>\n",
              "      <td>130135</td>\n",
              "    </tr>\n",
              "    <tr>\n",
              "      <th>2</th>\n",
              "      <td>2021-10-12</td>\n",
              "      <td>1684.00000</td>\n",
              "      <td>1689.00000</td>\n",
              "      <td>1662.00000</td>\n",
              "      <td>1684.80005</td>\n",
              "      <td>313692</td>\n",
              "    </tr>\n",
              "    <tr>\n",
              "      <th>3</th>\n",
              "      <td>2021-10-11</td>\n",
              "      <td>1678.15002</td>\n",
              "      <td>1730.30005</td>\n",
              "      <td>1663.94995</td>\n",
              "      <td>1692.00000</td>\n",
              "      <td>240721</td>\n",
              "    </tr>\n",
              "    <tr>\n",
              "      <th>4</th>\n",
              "      <td>2021-10-08</td>\n",
              "      <td>1704.00000</td>\n",
              "      <td>1731.00000</td>\n",
              "      <td>1698.19995</td>\n",
              "      <td>1723.55005</td>\n",
              "      <td>343733</td>\n",
              "    </tr>\n",
              "  </tbody>\n",
              "</table>\n",
              "</div>"
            ],
            "text/plain": [
              "    datetime        open        high         low       close  volume\n",
              "0 2021-10-14  1744.00000  1784.05005  1698.25000  1715.50000  495333\n",
              "1 2021-10-13  1692.00000  1713.50000  1681.30005  1708.69995  130135\n",
              "2 2021-10-12  1684.00000  1689.00000  1662.00000  1684.80005  313692\n",
              "3 2021-10-11  1678.15002  1730.30005  1663.94995  1692.00000  240721\n",
              "4 2021-10-08  1704.00000  1731.00000  1698.19995  1723.55005  343733"
            ]
          },
          "metadata": {},
          "execution_count": 907
        }
      ]
    },
    {
      "cell_type": "code",
      "metadata": {
        "colab": {
          "base_uri": "https://localhost:8080/"
        },
        "id": "vf7KLXWUWw2-",
        "outputId": "12ded8d5-c7ae-411c-aa21-5fd1f8b18068"
      },
      "source": [
        "data.isnull().sum()"
      ],
      "execution_count": null,
      "outputs": [
        {
          "output_type": "execute_result",
          "data": {
            "text/plain": [
              "datetime    0\n",
              "open        0\n",
              "high        0\n",
              "low         0\n",
              "close       0\n",
              "volume      0\n",
              "dtype: int64"
            ]
          },
          "metadata": {},
          "execution_count": 908
        }
      ]
    },
    {
      "cell_type": "code",
      "metadata": {
        "colab": {
          "base_uri": "https://localhost:8080/"
        },
        "id": "arYVJy8Je5KI",
        "outputId": "d081570d-33d4-4666-fe34-4daee2d37112"
      },
      "source": [
        "data.info()"
      ],
      "execution_count": null,
      "outputs": [
        {
          "output_type": "stream",
          "name": "stdout",
          "text": [
            "<class 'pandas.core.frame.DataFrame'>\n",
            "RangeIndex: 200 entries, 0 to 199\n",
            "Data columns (total 6 columns):\n",
            " #   Column    Non-Null Count  Dtype         \n",
            "---  ------    --------------  -----         \n",
            " 0   datetime  200 non-null    datetime64[ns]\n",
            " 1   open      200 non-null    float64       \n",
            " 2   high      200 non-null    float64       \n",
            " 3   low       200 non-null    float64       \n",
            " 4   close     200 non-null    float64       \n",
            " 5   volume    200 non-null    int64         \n",
            "dtypes: datetime64[ns](1), float64(4), int64(1)\n",
            "memory usage: 9.5 KB\n"
          ]
        }
      ]
    },
    {
      "cell_type": "code",
      "metadata": {
        "id": "PIJRqt7tCvkJ",
        "colab": {
          "base_uri": "https://localhost:8080/",
          "height": 300
        },
        "outputId": "ea022d76-6c3d-4d35-f193-a4c05de1d3db"
      },
      "source": [
        "data.describe()"
      ],
      "execution_count": null,
      "outputs": [
        {
          "output_type": "execute_result",
          "data": {
            "text/html": [
              "<div>\n",
              "<style scoped>\n",
              "    .dataframe tbody tr th:only-of-type {\n",
              "        vertical-align: middle;\n",
              "    }\n",
              "\n",
              "    .dataframe tbody tr th {\n",
              "        vertical-align: top;\n",
              "    }\n",
              "\n",
              "    .dataframe thead th {\n",
              "        text-align: right;\n",
              "    }\n",
              "</style>\n",
              "<table border=\"1\" class=\"dataframe\">\n",
              "  <thead>\n",
              "    <tr style=\"text-align: right;\">\n",
              "      <th></th>\n",
              "      <th>open</th>\n",
              "      <th>high</th>\n",
              "      <th>low</th>\n",
              "      <th>close</th>\n",
              "      <th>volume</th>\n",
              "    </tr>\n",
              "  </thead>\n",
              "  <tbody>\n",
              "    <tr>\n",
              "      <th>count</th>\n",
              "      <td>200.000000</td>\n",
              "      <td>200.000000</td>\n",
              "      <td>200.000000</td>\n",
              "      <td>200.000000</td>\n",
              "      <td>2.000000e+02</td>\n",
              "    </tr>\n",
              "    <tr>\n",
              "      <th>mean</th>\n",
              "      <td>1468.507747</td>\n",
              "      <td>1482.389749</td>\n",
              "      <td>1454.164252</td>\n",
              "      <td>1468.158997</td>\n",
              "      <td>4.641078e+05</td>\n",
              "    </tr>\n",
              "    <tr>\n",
              "      <th>std</th>\n",
              "      <td>162.687389</td>\n",
              "      <td>163.847530</td>\n",
              "      <td>162.891250</td>\n",
              "      <td>163.679149</td>\n",
              "      <td>5.947030e+05</td>\n",
              "    </tr>\n",
              "    <tr>\n",
              "      <th>min</th>\n",
              "      <td>1237.000000</td>\n",
              "      <td>1248.000000</td>\n",
              "      <td>1226.099980</td>\n",
              "      <td>1236.349980</td>\n",
              "      <td>5.555100e+04</td>\n",
              "    </tr>\n",
              "    <tr>\n",
              "      <th>25%</th>\n",
              "      <td>1337.012485</td>\n",
              "      <td>1349.474975</td>\n",
              "      <td>1320.187473</td>\n",
              "      <td>1336.300050</td>\n",
              "      <td>1.576532e+05</td>\n",
              "    </tr>\n",
              "    <tr>\n",
              "      <th>50%</th>\n",
              "      <td>1393.275025</td>\n",
              "      <td>1405.625000</td>\n",
              "      <td>1381.025020</td>\n",
              "      <td>1395.500000</td>\n",
              "      <td>2.667030e+05</td>\n",
              "    </tr>\n",
              "    <tr>\n",
              "      <th>75%</th>\n",
              "      <td>1643.500000</td>\n",
              "      <td>1659.212462</td>\n",
              "      <td>1637.137510</td>\n",
              "      <td>1649.450010</td>\n",
              "      <td>4.642162e+05</td>\n",
              "    </tr>\n",
              "    <tr>\n",
              "      <th>max</th>\n",
              "      <td>1770.849980</td>\n",
              "      <td>1787.500000</td>\n",
              "      <td>1752.199950</td>\n",
              "      <td>1763.449950</td>\n",
              "      <td>4.505456e+06</td>\n",
              "    </tr>\n",
              "  </tbody>\n",
              "</table>\n",
              "</div>"
            ],
            "text/plain": [
              "              open         high          low        close        volume\n",
              "count   200.000000   200.000000   200.000000   200.000000  2.000000e+02\n",
              "mean   1468.507747  1482.389749  1454.164252  1468.158997  4.641078e+05\n",
              "std     162.687389   163.847530   162.891250   163.679149  5.947030e+05\n",
              "min    1237.000000  1248.000000  1226.099980  1236.349980  5.555100e+04\n",
              "25%    1337.012485  1349.474975  1320.187473  1336.300050  1.576532e+05\n",
              "50%    1393.275025  1405.625000  1381.025020  1395.500000  2.667030e+05\n",
              "75%    1643.500000  1659.212462  1637.137510  1649.450010  4.642162e+05\n",
              "max    1770.849980  1787.500000  1752.199950  1763.449950  4.505456e+06"
            ]
          },
          "metadata": {},
          "execution_count": 910
        }
      ]
    },
    {
      "cell_type": "code",
      "metadata": {
        "colab": {
          "base_uri": "https://localhost:8080/"
        },
        "id": "1ueUx7tgHuWw",
        "outputId": "bf5daf5c-f163-4465-e170-33f2b05104c6"
      },
      "source": [
        "print(len(data))"
      ],
      "execution_count": null,
      "outputs": [
        {
          "output_type": "stream",
          "name": "stdout",
          "text": [
            "200\n"
          ]
        }
      ]
    },
    {
      "cell_type": "code",
      "metadata": {
        "colab": {
          "base_uri": "https://localhost:8080/",
          "height": 390
        },
        "id": "YIPQiFFyDMrn",
        "outputId": "e69ee07c-61f2-4004-ed4c-1af4df006e02"
      },
      "source": [
        "data['open'].plot(figsize=(20,6))"
      ],
      "execution_count": null,
      "outputs": [
        {
          "output_type": "execute_result",
          "data": {
            "text/plain": [
              "<matplotlib.axes._subplots.AxesSubplot at 0x7f06aaac3e90>"
            ]
          },
          "metadata": {},
          "execution_count": 912
        },
        {
          "output_type": "display_data",
          "data": {
            "image/png": "[encoded data removed]",
            "text/plain": [
              "<Figure size 1440x432 with 1 Axes>"
            ]
          },
          "metadata": {
            "needs_background": "light"
          }
        }
      ]
    },
    {
      "cell_type": "markdown",
      "metadata": {
        "id": "OZAVDYXQkjvx"
      },
      "source": [
        "Separate the Input and Output Columns"
      ]
    },
    {
      "cell_type": "code",
      "metadata": {
        "id": "3SSetGZjM1w9"
      },
      "source": [
        "\n",
        "x = data[['open', 'high', 'low', 'volume']]\n",
        "y = data['close']"
      ],
      "execution_count": null,
      "outputs": []
    },
    {
      "cell_type": "markdown",
      "metadata": {
        "id": "eJVKgjvsmkwm"
      },
      "source": [
        "Spliting the Train and Test data"
      ]
    },
    {
      "cell_type": "code",
      "metadata": {
        "id": "tbRLxPwuO0Jt"
      },
      "source": [
        "from sklearn.model_selection import train_test_split\n",
        "x_train,x_test,y_train,y_test = train_test_split(x,y,train_size=0.8, random_state = 100)"
      ],
      "execution_count": null,
      "outputs": []
    },
    {
      "cell_type": "code",
      "metadata": {
        "colab": {
          "base_uri": "https://localhost:8080/"
        },
        "id": "1DbjQHu7PEeN",
        "outputId": "2b8a75f5-8a3b-411f-9383-1c2292f12c1b"
      },
      "source": [
        "x_train.shape"
      ],
      "execution_count": null,
      "outputs": [
        {
          "output_type": "execute_result",
          "data": {
            "text/plain": [
              "(160, 4)"
            ]
          },
          "metadata": {},
          "execution_count": 853
        }
      ]
    },
    {
      "cell_type": "code",
      "metadata": {
        "colab": {
          "base_uri": "https://localhost:8080/"
        },
        "id": "FY8OXft5PT1w",
        "outputId": "23243e4d-65d4-4497-965e-04dd5884eb75"
      },
      "source": [
        "x_test.shape"
      ],
      "execution_count": null,
      "outputs": [
        {
          "output_type": "execute_result",
          "data": {
            "text/plain": [
              "(40, 4)"
            ]
          },
          "metadata": {},
          "execution_count": 854
        }
      ]
    },
    {
      "cell_type": "markdown",
      "metadata": {
        "id": "pgYv5Hq2m2qm"
      },
      "source": [
        "####Linear Regression Model"
      ]
    },
    {
      "cell_type": "code",
      "metadata": {
        "id": "N4CYWO6FPkFv"
      },
      "source": [
        "from sklearn.linear_model import LinearRegression\n",
        "from sklearn.metrics import confusion_matrix, accuracy_score\n",
        "LR = LinearRegression()"
      ],
      "execution_count": null,
      "outputs": []
    },
    {
      "cell_type": "markdown",
      "metadata": {
        "id": "PdeuoQ3QnGbs"
      },
      "source": [
        "Fitting the data in the Model"
      ]
    },
    {
      "cell_type": "code",
      "metadata": {
        "colab": {
          "base_uri": "https://localhost:8080/"
        },
        "id": "H7i249wbOX89",
        "outputId": "16acac9b-269d-46c4-da88-34ad5a181bf1"
      },
      "source": [
        "LR.fit(x_train,y_train)"
      ],
      "execution_count": null,
      "outputs": [
        {
          "output_type": "execute_result",
          "data": {
            "text/plain": [
              "LinearRegression(copy_X=True, fit_intercept=True, n_jobs=None, normalize=False)"
            ]
          },
          "metadata": {},
          "execution_count": 856
        }
      ]
    },
    {
      "cell_type": "code",
      "metadata": {
        "colab": {
          "base_uri": "https://localhost:8080/"
        },
        "id": "OjFbFdC1QhiM",
        "outputId": "9e7bac4e-169d-419c-a5e5-63d3a6fc4ccd"
      },
      "source": [
        "print(LR.coef_)"
      ],
      "execution_count": null,
      "outputs": [
        {
          "output_type": "stream",
          "name": "stdout",
          "text": [
            "[-4.99417512e-01  7.21993673e-01  7.76344848e-01  1.87507276e-06]\n"
          ]
        }
      ]
    },
    {
      "cell_type": "code",
      "metadata": {
        "colab": {
          "base_uri": "https://localhost:8080/"
        },
        "id": "DyJFeirkQ1Vm",
        "outputId": "b4e04f31-b1ec-4feb-b88f-fe3a6dca69b6"
      },
      "source": [
        "print(LR.intercept_)"
      ],
      "execution_count": null,
      "outputs": [
        {
          "output_type": "stream",
          "name": "stdout",
          "text": [
            "1.5411092428710162\n"
          ]
        }
      ]
    },
    {
      "cell_type": "markdown",
      "metadata": {
        "id": "QiA1UONshn4z"
      },
      "source": [
        "Prediction"
      ]
    },
    {
      "cell_type": "code",
      "metadata": {
        "colab": {
          "base_uri": "https://localhost:8080/"
        },
        "id": "pOxzXBkDPBjt",
        "outputId": "3c9fc89f-e46f-458c-beaa-b91527ce9e69"
      },
      "source": [
        "predicted = LR.predict(x_test)\n",
        "print(predicted)"
      ],
      "execution_count": null,
      "outputs": [
        {
          "output_type": "stream",
          "name": "stdout",
          "text": [
            "[1391.50915178 1338.12399213 1364.33909798 1390.80105858 1354.30002035\n",
            " 1289.27102475 1356.0970951  1402.17194978 1613.23217696 1569.25783952\n",
            " 1314.9754649  1357.13180651 1325.53775141 1274.00491074 1339.19249557\n",
            " 1242.93284592 1261.11231613 1302.62588072 1295.17441589 1700.97872506\n",
            " 1688.66247839 1583.17463762 1739.64474624 1701.18150966 1404.84162005\n",
            " 1436.2289593  1381.40081737 1494.30761914 1371.41907962 1362.04180625\n",
            " 1478.19700001 1550.19561468 1350.92284341 1283.07252937 1269.66666109\n",
            " 1551.34600224 1703.67842947 1278.47140901 1265.54250853 1470.84544194]\n"
          ]
        }
      ]
    },
    {
      "cell_type": "code",
      "metadata": {
        "colab": {
          "base_uri": "https://localhost:8080/"
        },
        "id": "XXZ9FMg4RysR",
        "outputId": "e6535484-44b3-4dbb-a56d-042cadd1bbc3"
      },
      "source": [
        "predicted.shape"
      ],
      "execution_count": null,
      "outputs": [
        {
          "output_type": "execute_result",
          "data": {
            "text/plain": [
              "(40,)"
            ]
          },
          "metadata": {},
          "execution_count": 860
        }
      ]
    },
    {
      "cell_type": "code",
      "metadata": {
        "id": "PNQqAajzSOAK"
      },
      "source": [
        "dfr=pd.DataFrame(y_test,predicted)"
      ],
      "execution_count": null,
      "outputs": []
    },
    {
      "cell_type": "code",
      "metadata": {
        "id": "CmIYAAG8S36h"
      },
      "source": [
        "dfr=pd.DataFrame({'Actual Price':y_test,'Predicted Price':predicted})"
      ],
      "execution_count": null,
      "outputs": []
    },
    {
      "cell_type": "code",
      "metadata": {
        "colab": {
          "base_uri": "https://localhost:8080/"
        },
        "id": "Q7zq0bcxSnI7",
        "outputId": "f98a2ee8-5877-4078-c936-c59baa044a81"
      },
      "source": [
        "print(dfr)"
      ],
      "execution_count": null,
      "outputs": [
        {
          "output_type": "stream",
          "name": "stdout",
          "text": [
            "     Actual Price  Predicted Price\n",
            "126    1398.59998      1391.509152\n",
            "104    1339.94995      1338.123992\n",
            "99     1361.90002      1364.339098\n",
            "92     1389.50000      1390.801059\n",
            "111    1361.15002      1354.300020\n",
            "167    1296.09998      1289.271025\n",
            "116    1355.55005      1356.097095\n",
            "96     1404.80005      1402.171950\n",
            "52     1610.25000      1613.232177\n",
            "69     1562.50000      1569.257840\n",
            "164    1309.69995      1314.975465\n",
            "124    1352.55005      1357.131807\n",
            "182    1317.05005      1325.537751\n",
            "154    1268.69995      1274.004911\n",
            "125    1361.50000      1339.192496\n",
            "196    1246.19995      1242.932846\n",
            "194    1260.40002      1261.112316\n",
            "177    1301.75000      1302.625881\n",
            "163    1290.09998      1295.174416\n",
            "31     1704.15002      1700.978725\n",
            "11     1689.90002      1688.662478\n",
            "73     1581.25000      1583.174638\n",
            "15     1741.69995      1739.644746\n",
            "41     1704.75000      1701.181510\n",
            "97     1404.65002      1404.841620\n",
            "128    1440.75000      1436.228959\n",
            "133    1385.30005      1381.400817\n",
            "82     1497.05005      1494.307619\n",
            "139    1371.19995      1371.419080\n",
            "123    1362.59998      1362.041806\n",
            "83     1480.30005      1478.197000\n",
            "65     1547.94995      1550.195615\n",
            "151    1330.30005      1350.922843\n",
            "162    1282.00000      1283.072529\n",
            "170    1272.30005      1269.666661\n",
            "77     1559.15002      1551.346002\n",
            "32     1697.84998      1703.678429\n",
            "173    1270.80005      1278.471409\n",
            "174    1261.44995      1265.542509\n",
            "85     1461.40002      1470.845442\n"
          ]
        }
      ]
    },
    {
      "cell_type": "code",
      "metadata": {
        "id": "AFAdbHwnZ3Vv"
      },
      "source": [
        "from sklearn.metrics import confusion_matrix, accuracy_score"
      ],
      "execution_count": null,
      "outputs": []
    },
    {
      "cell_type": "code",
      "metadata": {
        "id": "ZjZ3_D7YOX_-",
        "colab": {
          "base_uri": "https://localhost:8080/"
        },
        "outputId": "e883b9ff-3f40-4376-e4cc-a1bae8b2b752"
      },
      "source": [
        "LR.score(x_test,y_test)"
      ],
      "execution_count": null,
      "outputs": [
        {
          "output_type": "execute_result",
          "data": {
            "text/plain": [
              "0.9979601789721826"
            ]
          },
          "metadata": {},
          "execution_count": 865
        }
      ]
    },
    {
      "cell_type": "code",
      "metadata": {
        "id": "d3TVPlTKY-1a"
      },
      "source": [
        "graph=dfr.head(20)"
      ],
      "execution_count": null,
      "outputs": []
    },
    {
      "cell_type": "code",
      "metadata": {
        "colab": {
          "base_uri": "https://localhost:8080/",
          "height": 291
        },
        "id": "u6A8-IMzZErB",
        "outputId": "a3c3765d-01ec-4793-fa09-a9aa0a1a3ffb"
      },
      "source": [
        "graph.plot(kind='bar')"
      ],
      "execution_count": null,
      "outputs": [
        {
          "output_type": "execute_result",
          "data": {
            "text/plain": [
              "<matplotlib.axes._subplots.AxesSubplot at 0x7f06aad73150>"
            ]
          },
          "metadata": {},
          "execution_count": 867
        },
        {
          "output_type": "display_data",
          "data": {
            "image/png": "[encoded data removed]",
            "text/plain": [
              "<Figure size 432x288 with 1 Axes>"
            ]
          },
          "metadata": {
            "needs_background": "light"
          }
        }
      ]
    },
    {
      "cell_type": "code",
      "metadata": {
        "colab": {
          "base_uri": "https://localhost:8080/"
        },
        "id": "JPN92CALpDua",
        "outputId": "fa50ec4e-dd06-49e9-8b77-a842efe961fb"
      },
      "source": [
        "import math\n",
        "print('Mean Absolute Error:', metrics.mean_absolute_error(y_test,predicted))\n",
        "print('Mean Squared Error:', metrics.mean_squared_error(y_test,predicted))\n",
        "print('Root Mean Squared Error:', math.sqrt(metrics.mean_squared_error(y_test,predicted)))"
      ],
      "execution_count": null,
      "outputs": [
        {
          "output_type": "stream",
          "name": "stdout",
          "text": [
            "Mean Absolute Error: 4.568655078091183\n",
            "Mean Squared Error: 41.98154859118825\n",
            "Root Mean Squared Error: 6.479316984928909\n"
          ]
        }
      ]
    }
  ]
}