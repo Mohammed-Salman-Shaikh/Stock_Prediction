{
  "nbformat": 4,
  "nbformat_minor": 0,
  "metadata": {
    "colab": {
      "name": "Infosys_Stock_Prediction_using_Linear_Regression.ipynb",
      "provenance": [],
      "collapsed_sections": []
    },
    "kernelspec": {
      "name": "python3",
      "display_name": "Python 3"
    },
    "language_info": {
      "name": "python"
    }
  },
  "cells": [
    {
      "cell_type": "code",
      "metadata": {
        "id": "shFPMggWaB3Z"
      },
      "source": [
        "import requests"
      ],
      "execution_count": 1,
      "outputs": []
    },
    {
      "cell_type": "code",
      "metadata": {
        "id": "nJ__2zne-RoY"
      },
      "source": [
        "api_key= 'c62690a9cb76412088a2427a2394b72f'"
      ],
      "execution_count": 2,
      "outputs": []
    },
    {
      "cell_type": "code",
      "metadata": {
        "id": "fCB2bfSw-QkV"
      },
      "source": [
        "#ticker = 'INFY'\n",
        "#interval = '1day'\n",
        "\n",
        "api_url = 'https://api.twelvedata.com/time_series?symbol=INFY:BSE&interval=1day&outputsize=200&apikey=demo'\n",
        "\n",
        "data = requests.get(api_url).json()"
      ],
      "execution_count": 3,
      "outputs": []
    },
    {
      "cell_type": "code",
      "metadata": {
        "id": "WnvLsd8H-QoS"
      },
      "source": [
        "import pandas as pd\n",
        "import numpy as np\n",
        "from sklearn import metrics\n",
        "%matplotlib inline\n",
        "import matplotlib.pyplot as plt "
      ],
      "execution_count": 4,
      "outputs": []
    },
    {
      "cell_type": "code",
      "metadata": {
        "colab": {
          "base_uri": "https://localhost:8080/",
          "height": 423
        },
        "id": "Bx1WyJTycRb6",
        "outputId": "5a3bfb3e-877d-4706-82f7-5f24ade9ad61"
      },
      "source": [
        "data1= pd.DataFrame(data['values'])\n",
        "data1"
      ],
      "execution_count": 5,
      "outputs": [
        {
          "output_type": "execute_result",
          "data": {
            "text/html": [
              "<div>\n",
              "<style scoped>\n",
              "    .dataframe tbody tr th:only-of-type {\n",
              "        vertical-align: middle;\n",
              "    }\n",
              "\n",
              "    .dataframe tbody tr th {\n",
              "        vertical-align: top;\n",
              "    }\n",
              "\n",
              "    .dataframe thead th {\n",
              "        text-align: right;\n",
              "    }\n",
              "</style>\n",
              "<table border=\"1\" class=\"dataframe\">\n",
              "  <thead>\n",
              "    <tr style=\"text-align: right;\">\n",
              "      <th></th>\n",
              "      <th>datetime</th>\n",
              "      <th>open</th>\n",
              "      <th>high</th>\n",
              "      <th>low</th>\n",
              "      <th>close</th>\n",
              "      <th>volume</th>\n",
              "    </tr>\n",
              "  </thead>\n",
              "  <tbody>\n",
              "    <tr>\n",
              "      <th>0</th>\n",
              "      <td>2021-10-14</td>\n",
              "      <td>1749.00000</td>\n",
              "      <td>1783.94995</td>\n",
              "      <td>1711.00000</td>\n",
              "      <td>1715.44995</td>\n",
              "      <td>393432</td>\n",
              "    </tr>\n",
              "    <tr>\n",
              "      <th>1</th>\n",
              "      <td>2021-10-13</td>\n",
              "      <td>1692.00000</td>\n",
              "      <td>1713.50000</td>\n",
              "      <td>1681.30005</td>\n",
              "      <td>1708.69995</td>\n",
              "      <td>130135</td>\n",
              "    </tr>\n",
              "    <tr>\n",
              "      <th>2</th>\n",
              "      <td>2021-10-12</td>\n",
              "      <td>1684.00000</td>\n",
              "      <td>1689.00000</td>\n",
              "      <td>1662.00000</td>\n",
              "      <td>1684.80005</td>\n",
              "      <td>313692</td>\n",
              "    </tr>\n",
              "    <tr>\n",
              "      <th>3</th>\n",
              "      <td>2021-10-11</td>\n",
              "      <td>1678.15002</td>\n",
              "      <td>1730.30005</td>\n",
              "      <td>1663.94995</td>\n",
              "      <td>1692.00000</td>\n",
              "      <td>240721</td>\n",
              "    </tr>\n",
              "    <tr>\n",
              "      <th>4</th>\n",
              "      <td>2021-10-08</td>\n",
              "      <td>1704.00000</td>\n",
              "      <td>1731.00000</td>\n",
              "      <td>1698.19995</td>\n",
              "      <td>1723.55005</td>\n",
              "      <td>343733</td>\n",
              "    </tr>\n",
              "    <tr>\n",
              "      <th>...</th>\n",
              "      <td>...</td>\n",
              "      <td>...</td>\n",
              "      <td>...</td>\n",
              "      <td>...</td>\n",
              "      <td>...</td>\n",
              "      <td>...</td>\n",
              "    </tr>\n",
              "    <tr>\n",
              "      <th>195</th>\n",
              "      <td>2020-12-31</td>\n",
              "      <td>1244.90002</td>\n",
              "      <td>1258.15002</td>\n",
              "      <td>1239.00000</td>\n",
              "      <td>1255.84998</td>\n",
              "      <td>157186</td>\n",
              "    </tr>\n",
              "    <tr>\n",
              "      <th>196</th>\n",
              "      <td>2020-12-30</td>\n",
              "      <td>1252.90002</td>\n",
              "      <td>1253.90002</td>\n",
              "      <td>1238.55005</td>\n",
              "      <td>1246.19995</td>\n",
              "      <td>139790</td>\n",
              "    </tr>\n",
              "    <tr>\n",
              "      <th>197</th>\n",
              "      <td>2020-12-29</td>\n",
              "      <td>1237.00000</td>\n",
              "      <td>1254.50000</td>\n",
              "      <td>1236.55005</td>\n",
              "      <td>1250.15002</td>\n",
              "      <td>241078</td>\n",
              "    </tr>\n",
              "    <tr>\n",
              "      <th>198</th>\n",
              "      <td>2020-12-28</td>\n",
              "      <td>1237.34998</td>\n",
              "      <td>1248.00000</td>\n",
              "      <td>1236.15002</td>\n",
              "      <td>1240.09998</td>\n",
              "      <td>252593</td>\n",
              "    </tr>\n",
              "    <tr>\n",
              "      <th>199</th>\n",
              "      <td>2020-12-24</td>\n",
              "      <td>1265.00000</td>\n",
              "      <td>1265.00000</td>\n",
              "      <td>1226.09998</td>\n",
              "      <td>1236.34998</td>\n",
              "      <td>503008</td>\n",
              "    </tr>\n",
              "  </tbody>\n",
              "</table>\n",
              "<p>200 rows × 6 columns</p>\n",
              "</div>"
            ],
            "text/plain": [
              "       datetime        open        high         low       close  volume\n",
              "0    2021-10-14  1749.00000  1783.94995  1711.00000  1715.44995  393432\n",
              "1    2021-10-13  1692.00000  1713.50000  1681.30005  1708.69995  130135\n",
              "2    2021-10-12  1684.00000  1689.00000  1662.00000  1684.80005  313692\n",
              "3    2021-10-11  1678.15002  1730.30005  1663.94995  1692.00000  240721\n",
              "4    2021-10-08  1704.00000  1731.00000  1698.19995  1723.55005  343733\n",
              "..          ...         ...         ...         ...         ...     ...\n",
              "195  2020-12-31  1244.90002  1258.15002  1239.00000  1255.84998  157186\n",
              "196  2020-12-30  1252.90002  1253.90002  1238.55005  1246.19995  139790\n",
              "197  2020-12-29  1237.00000  1254.50000  1236.55005  1250.15002  241078\n",
              "198  2020-12-28  1237.34998  1248.00000  1236.15002  1240.09998  252593\n",
              "199  2020-12-24  1265.00000  1265.00000  1226.09998  1236.34998  503008\n",
              "\n",
              "[200 rows x 6 columns]"
            ]
          },
          "metadata": {},
          "execution_count": 5
        }
      ]
    },
    {
      "cell_type": "code",
      "metadata": {
        "id": "8e7EXivVG_qg"
      },
      "source": [
        "data1[\"datetime\"] = data1['datetime'].str.replace('-', '').astype(float)\n",
        "data1=data1.astype(float)"
      ],
      "execution_count": 6,
      "outputs": []
    },
    {
      "cell_type": "code",
      "metadata": {
        "id": "8lwxinRkCXtz",
        "colab": {
          "base_uri": "https://localhost:8080/"
        },
        "outputId": "33dcdb5e-febe-486e-e752-5f63998a9066"
      },
      "source": [
        "data1.shape"
      ],
      "execution_count": 7,
      "outputs": [
        {
          "output_type": "execute_result",
          "data": {
            "text/plain": [
              "(200, 6)"
            ]
          },
          "metadata": {},
          "execution_count": 7
        }
      ]
    },
    {
      "cell_type": "code",
      "metadata": {
        "colab": {
          "base_uri": "https://localhost:8080/",
          "height": 206
        },
        "id": "_d9puTg7d8te",
        "outputId": "29dc505a-83b0-4361-f39f-4b15857f24f0"
      },
      "source": [
        "data1.head()"
      ],
      "execution_count": 8,
      "outputs": [
        {
          "output_type": "execute_result",
          "data": {
            "text/html": [
              "<div>\n",
              "<style scoped>\n",
              "    .dataframe tbody tr th:only-of-type {\n",
              "        vertical-align: middle;\n",
              "    }\n",
              "\n",
              "    .dataframe tbody tr th {\n",
              "        vertical-align: top;\n",
              "    }\n",
              "\n",
              "    .dataframe thead th {\n",
              "        text-align: right;\n",
              "    }\n",
              "</style>\n",
              "<table border=\"1\" class=\"dataframe\">\n",
              "  <thead>\n",
              "    <tr style=\"text-align: right;\">\n",
              "      <th></th>\n",
              "      <th>datetime</th>\n",
              "      <th>open</th>\n",
              "      <th>high</th>\n",
              "      <th>low</th>\n",
              "      <th>close</th>\n",
              "      <th>volume</th>\n",
              "    </tr>\n",
              "  </thead>\n",
              "  <tbody>\n",
              "    <tr>\n",
              "      <th>0</th>\n",
              "      <td>20211014.0</td>\n",
              "      <td>1749.00000</td>\n",
              "      <td>1783.94995</td>\n",
              "      <td>1711.00000</td>\n",
              "      <td>1715.44995</td>\n",
              "      <td>393432.0</td>\n",
              "    </tr>\n",
              "    <tr>\n",
              "      <th>1</th>\n",
              "      <td>20211013.0</td>\n",
              "      <td>1692.00000</td>\n",
              "      <td>1713.50000</td>\n",
              "      <td>1681.30005</td>\n",
              "      <td>1708.69995</td>\n",
              "      <td>130135.0</td>\n",
              "    </tr>\n",
              "    <tr>\n",
              "      <th>2</th>\n",
              "      <td>20211012.0</td>\n",
              "      <td>1684.00000</td>\n",
              "      <td>1689.00000</td>\n",
              "      <td>1662.00000</td>\n",
              "      <td>1684.80005</td>\n",
              "      <td>313692.0</td>\n",
              "    </tr>\n",
              "    <tr>\n",
              "      <th>3</th>\n",
              "      <td>20211011.0</td>\n",
              "      <td>1678.15002</td>\n",
              "      <td>1730.30005</td>\n",
              "      <td>1663.94995</td>\n",
              "      <td>1692.00000</td>\n",
              "      <td>240721.0</td>\n",
              "    </tr>\n",
              "    <tr>\n",
              "      <th>4</th>\n",
              "      <td>20211008.0</td>\n",
              "      <td>1704.00000</td>\n",
              "      <td>1731.00000</td>\n",
              "      <td>1698.19995</td>\n",
              "      <td>1723.55005</td>\n",
              "      <td>343733.0</td>\n",
              "    </tr>\n",
              "  </tbody>\n",
              "</table>\n",
              "</div>"
            ],
            "text/plain": [
              "     datetime        open        high         low       close    volume\n",
              "0  20211014.0  1749.00000  1783.94995  1711.00000  1715.44995  393432.0\n",
              "1  20211013.0  1692.00000  1713.50000  1681.30005  1708.69995  130135.0\n",
              "2  20211012.0  1684.00000  1689.00000  1662.00000  1684.80005  313692.0\n",
              "3  20211011.0  1678.15002  1730.30005  1663.94995  1692.00000  240721.0\n",
              "4  20211008.0  1704.00000  1731.00000  1698.19995  1723.55005  343733.0"
            ]
          },
          "metadata": {},
          "execution_count": 8
        }
      ]
    },
    {
      "cell_type": "code",
      "metadata": {
        "colab": {
          "base_uri": "https://localhost:8080/"
        },
        "id": "vf7KLXWUWw2-",
        "outputId": "2fb48606-9441-4a6c-d1bb-16ac85bfc7ff"
      },
      "source": [
        "data1.isnull().sum()"
      ],
      "execution_count": 9,
      "outputs": [
        {
          "output_type": "execute_result",
          "data": {
            "text/plain": [
              "datetime    0\n",
              "open        0\n",
              "high        0\n",
              "low         0\n",
              "close       0\n",
              "volume      0\n",
              "dtype: int64"
            ]
          },
          "metadata": {},
          "execution_count": 9
        }
      ]
    },
    {
      "cell_type": "code",
      "metadata": {
        "colab": {
          "base_uri": "https://localhost:8080/"
        },
        "id": "arYVJy8Je5KI",
        "outputId": "f996e675-ede6-4473-89f8-994ded810c93"
      },
      "source": [
        "data1.info()"
      ],
      "execution_count": 10,
      "outputs": [
        {
          "output_type": "stream",
          "name": "stdout",
          "text": [
            "<class 'pandas.core.frame.DataFrame'>\n",
            "RangeIndex: 200 entries, 0 to 199\n",
            "Data columns (total 6 columns):\n",
            " #   Column    Non-Null Count  Dtype  \n",
            "---  ------    --------------  -----  \n",
            " 0   datetime  200 non-null    float64\n",
            " 1   open      200 non-null    float64\n",
            " 2   high      200 non-null    float64\n",
            " 3   low       200 non-null    float64\n",
            " 4   close     200 non-null    float64\n",
            " 5   volume    200 non-null    float64\n",
            "dtypes: float64(6)\n",
            "memory usage: 9.5 KB\n"
          ]
        }
      ]
    },
    {
      "cell_type": "code",
      "metadata": {
        "id": "PIJRqt7tCvkJ",
        "colab": {
          "base_uri": "https://localhost:8080/",
          "height": 300
        },
        "outputId": "e163996d-c467-49f1-ddd6-70de38a6717c"
      },
      "source": [
        "data1.describe()"
      ],
      "execution_count": 11,
      "outputs": [
        {
          "output_type": "execute_result",
          "data": {
            "text/html": [
              "<div>\n",
              "<style scoped>\n",
              "    .dataframe tbody tr th:only-of-type {\n",
              "        vertical-align: middle;\n",
              "    }\n",
              "\n",
              "    .dataframe tbody tr th {\n",
              "        vertical-align: top;\n",
              "    }\n",
              "\n",
              "    .dataframe thead th {\n",
              "        text-align: right;\n",
              "    }\n",
              "</style>\n",
              "<table border=\"1\" class=\"dataframe\">\n",
              "  <thead>\n",
              "    <tr style=\"text-align: right;\">\n",
              "      <th></th>\n",
              "      <th>datetime</th>\n",
              "      <th>open</th>\n",
              "      <th>high</th>\n",
              "      <th>low</th>\n",
              "      <th>close</th>\n",
              "      <th>volume</th>\n",
              "    </tr>\n",
              "  </thead>\n",
              "  <tbody>\n",
              "    <tr>\n",
              "      <th>count</th>\n",
              "      <td>2.000000e+02</td>\n",
              "      <td>200.000000</td>\n",
              "      <td>200.000000</td>\n",
              "      <td>200.000000</td>\n",
              "      <td>200.000000</td>\n",
              "      <td>2.000000e+02</td>\n",
              "    </tr>\n",
              "    <tr>\n",
              "      <th>mean</th>\n",
              "      <td>2.021031e+07</td>\n",
              "      <td>1468.532747</td>\n",
              "      <td>1482.389249</td>\n",
              "      <td>1454.228002</td>\n",
              "      <td>1468.158747</td>\n",
              "      <td>4.635983e+05</td>\n",
              "    </tr>\n",
              "    <tr>\n",
              "      <th>std</th>\n",
              "      <td>1.483357e+03</td>\n",
              "      <td>162.730315</td>\n",
              "      <td>163.846604</td>\n",
              "      <td>162.989722</td>\n",
              "      <td>163.678769</td>\n",
              "      <td>5.947198e+05</td>\n",
              "    </tr>\n",
              "    <tr>\n",
              "      <th>min</th>\n",
              "      <td>2.020122e+07</td>\n",
              "      <td>1237.000000</td>\n",
              "      <td>1248.000000</td>\n",
              "      <td>1226.099980</td>\n",
              "      <td>1236.349980</td>\n",
              "      <td>5.555100e+04</td>\n",
              "    </tr>\n",
              "    <tr>\n",
              "      <th>25%</th>\n",
              "      <td>2.021031e+07</td>\n",
              "      <td>1337.012485</td>\n",
              "      <td>1349.474975</td>\n",
              "      <td>1320.187473</td>\n",
              "      <td>1336.300050</td>\n",
              "      <td>1.576532e+05</td>\n",
              "    </tr>\n",
              "    <tr>\n",
              "      <th>50%</th>\n",
              "      <td>2.021052e+07</td>\n",
              "      <td>1393.275025</td>\n",
              "      <td>1405.625000</td>\n",
              "      <td>1381.025020</td>\n",
              "      <td>1395.500000</td>\n",
              "      <td>2.667030e+05</td>\n",
              "    </tr>\n",
              "    <tr>\n",
              "      <th>75%</th>\n",
              "      <td>2.021080e+07</td>\n",
              "      <td>1643.500000</td>\n",
              "      <td>1659.212462</td>\n",
              "      <td>1637.137510</td>\n",
              "      <td>1649.450010</td>\n",
              "      <td>4.463272e+05</td>\n",
              "    </tr>\n",
              "    <tr>\n",
              "      <th>max</th>\n",
              "      <td>2.021101e+07</td>\n",
              "      <td>1770.849980</td>\n",
              "      <td>1787.500000</td>\n",
              "      <td>1752.199950</td>\n",
              "      <td>1763.449950</td>\n",
              "      <td>4.505456e+06</td>\n",
              "    </tr>\n",
              "  </tbody>\n",
              "</table>\n",
              "</div>"
            ],
            "text/plain": [
              "           datetime         open  ...        close        volume\n",
              "count  2.000000e+02   200.000000  ...   200.000000  2.000000e+02\n",
              "mean   2.021031e+07  1468.532747  ...  1468.158747  4.635983e+05\n",
              "std    1.483357e+03   162.730315  ...   163.678769  5.947198e+05\n",
              "min    2.020122e+07  1237.000000  ...  1236.349980  5.555100e+04\n",
              "25%    2.021031e+07  1337.012485  ...  1336.300050  1.576532e+05\n",
              "50%    2.021052e+07  1393.275025  ...  1395.500000  2.667030e+05\n",
              "75%    2.021080e+07  1643.500000  ...  1649.450010  4.463272e+05\n",
              "max    2.021101e+07  1770.849980  ...  1763.449950  4.505456e+06\n",
              "\n",
              "[8 rows x 6 columns]"
            ]
          },
          "metadata": {},
          "execution_count": 11
        }
      ]
    },
    {
      "cell_type": "code",
      "metadata": {
        "colab": {
          "base_uri": "https://localhost:8080/",
          "height": 499
        },
        "id": "YIPQiFFyDMrn",
        "outputId": "d8302dae-f26e-4ed9-dd6c-8c226e483aa3"
      },
      "source": [
        "data1['open'].plot(figsize=(20,8))"
      ],
      "execution_count": 12,
      "outputs": [
        {
          "output_type": "execute_result",
          "data": {
            "text/plain": [
              "<matplotlib.axes._subplots.AxesSubplot at 0x7f06b6cb3f90>"
            ]
          },
          "metadata": {},
          "execution_count": 12
        },
        {
          "output_type": "display_data",
          "data": {
            "image/png": "[encoded data removed]",
            "text/plain": [
              "<Figure size 1440x576 with 1 Axes>"
            ]
          },
          "metadata": {
            "needs_background": "light"
          }
        }
      ]
    },
    {
      "cell_type": "code",
      "metadata": {
        "id": "3SSetGZjM1w9"
      },
      "source": [
        "\n",
        "x = data1[['open', 'high', 'low', 'volume']]\n",
        "y = data1['close']"
      ],
      "execution_count": 13,
      "outputs": []
    },
    {
      "cell_type": "code",
      "metadata": {
        "id": "tbRLxPwuO0Jt"
      },
      "source": [
        "from sklearn.model_selection import train_test_split\n",
        "x_train,x_test,y_train,y_test = train_test_split(x,y,train_size=0.8, random_state = 100)"
      ],
      "execution_count": 14,
      "outputs": []
    },
    {
      "cell_type": "code",
      "metadata": {
        "colab": {
          "base_uri": "https://localhost:8080/"
        },
        "id": "1DbjQHu7PEeN",
        "outputId": "7f8d637c-047f-4bd4-d4d4-63f580be818e"
      },
      "source": [
        "x_train.shape"
      ],
      "execution_count": 15,
      "outputs": [
        {
          "output_type": "execute_result",
          "data": {
            "text/plain": [
              "(160, 4)"
            ]
          },
          "metadata": {},
          "execution_count": 15
        }
      ]
    },
    {
      "cell_type": "code",
      "metadata": {
        "colab": {
          "base_uri": "https://localhost:8080/"
        },
        "id": "FY8OXft5PT1w",
        "outputId": "40c7e133-76f5-4430-a69d-27c9d64f4837"
      },
      "source": [
        "x_test.shape"
      ],
      "execution_count": 16,
      "outputs": [
        {
          "output_type": "execute_result",
          "data": {
            "text/plain": [
              "(40, 4)"
            ]
          },
          "metadata": {},
          "execution_count": 16
        }
      ]
    },
    {
      "cell_type": "code",
      "metadata": {
        "colab": {
          "base_uri": "https://localhost:8080/"
        },
        "id": "O14LCI8sOSRl",
        "outputId": "cafa8ed6-7c3e-44c4-f4c3-137401be17c2"
      },
      "source": [
        "y.head()"
      ],
      "execution_count": 17,
      "outputs": [
        {
          "output_type": "execute_result",
          "data": {
            "text/plain": [
              "0    1715.44995\n",
              "1    1708.69995\n",
              "2    1684.80005\n",
              "3    1692.00000\n",
              "4    1723.55005\n",
              "Name: close, dtype: float64"
            ]
          },
          "metadata": {},
          "execution_count": 17
        }
      ]
    },
    {
      "cell_type": "code",
      "metadata": {
        "colab": {
          "base_uri": "https://localhost:8080/",
          "height": 206
        },
        "id": "9spPqffZONyo",
        "outputId": "fcc355e6-c8ba-4b57-ecb9-3aaed25aab34"
      },
      "source": [
        "x.head()"
      ],
      "execution_count": 18,
      "outputs": [
        {
          "output_type": "execute_result",
          "data": {
            "text/html": [
              "<div>\n",
              "<style scoped>\n",
              "    .dataframe tbody tr th:only-of-type {\n",
              "        vertical-align: middle;\n",
              "    }\n",
              "\n",
              "    .dataframe tbody tr th {\n",
              "        vertical-align: top;\n",
              "    }\n",
              "\n",
              "    .dataframe thead th {\n",
              "        text-align: right;\n",
              "    }\n",
              "</style>\n",
              "<table border=\"1\" class=\"dataframe\">\n",
              "  <thead>\n",
              "    <tr style=\"text-align: right;\">\n",
              "      <th></th>\n",
              "      <th>open</th>\n",
              "      <th>high</th>\n",
              "      <th>low</th>\n",
              "      <th>volume</th>\n",
              "    </tr>\n",
              "  </thead>\n",
              "  <tbody>\n",
              "    <tr>\n",
              "      <th>0</th>\n",
              "      <td>1749.00000</td>\n",
              "      <td>1783.94995</td>\n",
              "      <td>1711.00000</td>\n",
              "      <td>393432.0</td>\n",
              "    </tr>\n",
              "    <tr>\n",
              "      <th>1</th>\n",
              "      <td>1692.00000</td>\n",
              "      <td>1713.50000</td>\n",
              "      <td>1681.30005</td>\n",
              "      <td>130135.0</td>\n",
              "    </tr>\n",
              "    <tr>\n",
              "      <th>2</th>\n",
              "      <td>1684.00000</td>\n",
              "      <td>1689.00000</td>\n",
              "      <td>1662.00000</td>\n",
              "      <td>313692.0</td>\n",
              "    </tr>\n",
              "    <tr>\n",
              "      <th>3</th>\n",
              "      <td>1678.15002</td>\n",
              "      <td>1730.30005</td>\n",
              "      <td>1663.94995</td>\n",
              "      <td>240721.0</td>\n",
              "    </tr>\n",
              "    <tr>\n",
              "      <th>4</th>\n",
              "      <td>1704.00000</td>\n",
              "      <td>1731.00000</td>\n",
              "      <td>1698.19995</td>\n",
              "      <td>343733.0</td>\n",
              "    </tr>\n",
              "  </tbody>\n",
              "</table>\n",
              "</div>"
            ],
            "text/plain": [
              "         open        high         low    volume\n",
              "0  1749.00000  1783.94995  1711.00000  393432.0\n",
              "1  1692.00000  1713.50000  1681.30005  130135.0\n",
              "2  1684.00000  1689.00000  1662.00000  313692.0\n",
              "3  1678.15002  1730.30005  1663.94995  240721.0\n",
              "4  1704.00000  1731.00000  1698.19995  343733.0"
            ]
          },
          "metadata": {},
          "execution_count": 18
        }
      ]
    },
    {
      "cell_type": "code",
      "metadata": {
        "id": "N4CYWO6FPkFv"
      },
      "source": [
        "from sklearn.linear_model import LinearRegression\n",
        "from sklearn.metrics import confusion_matrix, accuracy_score\n",
        "LR = LinearRegression()"
      ],
      "execution_count": 19,
      "outputs": []
    },
    {
      "cell_type": "code",
      "metadata": {
        "colab": {
          "base_uri": "https://localhost:8080/"
        },
        "id": "H7i249wbOX89",
        "outputId": "aa91bfc0-3715-462f-85da-d22e399be804"
      },
      "source": [
        "LR.fit(x_train,y_train)"
      ],
      "execution_count": 20,
      "outputs": [
        {
          "output_type": "execute_result",
          "data": {
            "text/plain": [
              "LinearRegression(copy_X=True, fit_intercept=True, n_jobs=None, normalize=False)"
            ]
          },
          "metadata": {},
          "execution_count": 20
        }
      ]
    },
    {
      "cell_type": "code",
      "metadata": {
        "colab": {
          "base_uri": "https://localhost:8080/"
        },
        "id": "OjFbFdC1QhiM",
        "outputId": "23482073-19b7-4f38-e68a-c2db19753c21"
      },
      "source": [
        "print(LR.coef_)"
      ],
      "execution_count": 21,
      "outputs": [
        {
          "output_type": "stream",
          "name": "stdout",
          "text": [
            "[-4.98633388e-01  7.20127873e-01  7.76983063e-01  1.89888879e-06]\n"
          ]
        }
      ]
    },
    {
      "cell_type": "code",
      "metadata": {
        "colab": {
          "base_uri": "https://localhost:8080/"
        },
        "id": "DyJFeirkQ1Vm",
        "outputId": "cc10b391-506f-4a81-f842-1f65f56a360a"
      },
      "source": [
        "print(LR.intercept_)"
      ],
      "execution_count": 22,
      "outputs": [
        {
          "output_type": "stream",
          "name": "stdout",
          "text": [
            "2.1769073799434864\n"
          ]
        }
      ]
    },
    {
      "cell_type": "code",
      "metadata": {
        "colab": {
          "base_uri": "https://localhost:8080/"
        },
        "id": "pOxzXBkDPBjt",
        "outputId": "0d9a0cc4-11e4-4776-f10a-c5d6332c66ed"
      },
      "source": [
        "predicted = LR.predict(x_test)\n",
        "print(predicted)"
      ],
      "execution_count": 23,
      "outputs": [
        {
          "output_type": "stream",
          "name": "stdout",
          "text": [
            "[1391.48489004 1338.15512003 1364.35786093 1390.79566229 1354.30351613\n",
            " 1289.31915984 1356.11741857 1402.17771866 1613.13390242 1569.16756149\n",
            " 1315.00724137 1357.17302452 1325.56309021 1274.04637348 1339.21502369\n",
            " 1243.0053376  1261.18131187 1302.64056406 1295.20845447 1700.84291737\n",
            " 1688.4896445  1583.06888154 1739.56078906 1701.0335684  1404.85830205\n",
            " 1436.21225097 1381.4006245  1494.24140171 1371.41990055 1362.01879744\n",
            " 1478.15834148 1550.13874497 1350.95060692 1283.12340736 1269.71926225\n",
            " 1551.21973088 1703.52651892 1278.50951449 1265.5724422  1470.80489642]\n"
          ]
        }
      ]
    },
    {
      "cell_type": "code",
      "metadata": {
        "colab": {
          "base_uri": "https://localhost:8080/"
        },
        "id": "XXZ9FMg4RysR",
        "outputId": "c8985d58-39d6-454d-8d17-cae12299148b"
      },
      "source": [
        "predicted.shape"
      ],
      "execution_count": null,
      "outputs": [
        {
          "output_type": "execute_result",
          "data": {
            "text/plain": [
              "(40,)"
            ]
          },
          "metadata": {},
          "execution_count": 113
        }
      ]
    },
    {
      "cell_type": "code",
      "metadata": {
        "id": "PNQqAajzSOAK"
      },
      "source": [
        "dfr=pd.DataFrame(y_test,predicted)"
      ],
      "execution_count": 24,
      "outputs": []
    },
    {
      "cell_type": "code",
      "metadata": {
        "id": "CmIYAAG8S36h"
      },
      "source": [
        "dfr=pd.DataFrame({'Actual Price':y_test,'Predicted Price':predicted})"
      ],
      "execution_count": 25,
      "outputs": []
    },
    {
      "cell_type": "code",
      "metadata": {
        "colab": {
          "base_uri": "https://localhost:8080/"
        },
        "id": "Q7zq0bcxSnI7",
        "outputId": "6ab9829b-985c-4d41-b3c5-025d2c55bf9e"
      },
      "source": [
        "print(dfr)"
      ],
      "execution_count": 26,
      "outputs": [
        {
          "output_type": "stream",
          "name": "stdout",
          "text": [
            "     Actual Price  Predicted Price\n",
            "126    1398.59998      1391.484890\n",
            "104    1339.94995      1338.155120\n",
            "99     1361.90002      1364.357861\n",
            "92     1389.50000      1390.795662\n",
            "111    1361.15002      1354.303516\n",
            "167    1296.09998      1289.319160\n",
            "116    1355.55005      1356.117419\n",
            "96     1404.80005      1402.177719\n",
            "52     1610.25000      1613.133902\n",
            "69     1562.50000      1569.167561\n",
            "164    1309.69995      1315.007241\n",
            "124    1352.55005      1357.173025\n",
            "182    1317.05005      1325.563090\n",
            "154    1268.69995      1274.046373\n",
            "125    1361.50000      1339.215024\n",
            "196    1246.19995      1243.005338\n",
            "194    1260.40002      1261.181312\n",
            "177    1301.75000      1302.640564\n",
            "163    1290.09998      1295.208454\n",
            "31     1704.15002      1700.842917\n",
            "11     1689.90002      1688.489645\n",
            "73     1581.25000      1583.068882\n",
            "15     1741.69995      1739.560789\n",
            "41     1704.75000      1701.033568\n",
            "97     1404.65002      1404.858302\n",
            "128    1440.75000      1436.212251\n",
            "133    1385.30005      1381.400624\n",
            "82     1497.05005      1494.241402\n",
            "139    1371.19995      1371.419901\n",
            "123    1362.59998      1362.018797\n",
            "83     1480.30005      1478.158341\n",
            "65     1547.94995      1550.138745\n",
            "151    1330.30005      1350.950607\n",
            "162    1282.00000      1283.123407\n",
            "170    1272.30005      1269.719262\n",
            "77     1559.15002      1551.219731\n",
            "32     1697.84998      1703.526519\n",
            "173    1270.80005      1278.509514\n",
            "174    1261.44995      1265.572442\n",
            "85     1461.40002      1470.804896\n"
          ]
        }
      ]
    },
    {
      "cell_type": "code",
      "metadata": {
        "id": "AFAdbHwnZ3Vv"
      },
      "source": [
        "from sklearn.metrics import confusion_matrix, accuracy_score"
      ],
      "execution_count": 27,
      "outputs": []
    },
    {
      "cell_type": "code",
      "metadata": {
        "id": "ZjZ3_D7YOX_-",
        "colab": {
          "base_uri": "https://localhost:8080/"
        },
        "outputId": "0acb27c3-fe29-41fe-e74f-969d05eb324f"
      },
      "source": [
        "LR.score(x_test,y_test)"
      ],
      "execution_count": 28,
      "outputs": [
        {
          "output_type": "execute_result",
          "data": {
            "text/plain": [
              "0.9979571075157709"
            ]
          },
          "metadata": {},
          "execution_count": 28
        }
      ]
    },
    {
      "cell_type": "code",
      "metadata": {
        "id": "JN0AIgh6YGWP"
      },
      "source": [
        "import math"
      ],
      "execution_count": 29,
      "outputs": []
    },
    {
      "cell_type": "code",
      "metadata": {
        "colab": {
          "base_uri": "https://localhost:8080/"
        },
        "id": "wNLPiNFaXq0Z",
        "outputId": "6d555858-3f32-43e1-d0f1-a4729b0d6ab0"
      },
      "source": [
        "print('Mean Absolute Error:',metrics.mean_absolute_error(y_test,predicted))"
      ],
      "execution_count": 30,
      "outputs": [
        {
          "output_type": "stream",
          "name": "stdout",
          "text": [
            "Mean Absolute Error: 4.581441663853525\n"
          ]
        }
      ]
    },
    {
      "cell_type": "code",
      "metadata": {
        "colab": {
          "base_uri": "https://localhost:8080/"
        },
        "id": "uW710PccYRZ4",
        "outputId": "6da100a9-be1e-4572-9811-6a11d9e95e13"
      },
      "source": [
        "print('Mean Squared Error:',metrics.mean_squared_error(y_test,predicted))"
      ],
      "execution_count": 31,
      "outputs": [
        {
          "output_type": "stream",
          "name": "stdout",
          "text": [
            "Mean Squared Error: 42.04476222357645\n"
          ]
        }
      ]
    },
    {
      "cell_type": "code",
      "metadata": {
        "colab": {
          "base_uri": "https://localhost:8080/"
        },
        "id": "vNCDc7kNYl0i",
        "outputId": "0ef203ef-1ae9-4499-d3db-1425296a7d19"
      },
      "source": [
        "print('Root Mean Squared Error:',math.sqrt(metrics.mean_squared_error(y_test,predicted)))"
      ],
      "execution_count": 32,
      "outputs": [
        {
          "output_type": "stream",
          "name": "stdout",
          "text": [
            "Root Mean Squared Error: 6.484193259271075\n"
          ]
        }
      ]
    },
    {
      "cell_type": "code",
      "metadata": {
        "id": "d3TVPlTKY-1a"
      },
      "source": [
        "graph=dfr.head(20)"
      ],
      "execution_count": 33,
      "outputs": []
    },
    {
      "cell_type": "code",
      "metadata": {
        "colab": {
          "base_uri": "https://localhost:8080/",
          "height": 291
        },
        "id": "u6A8-IMzZErB",
        "outputId": "2b612da8-5a91-4d12-cccf-9195cf225207"
      },
      "source": [
        "graph.plot(kind='bar')"
      ],
      "execution_count": 34,
      "outputs": [
        {
          "output_type": "execute_result",
          "data": {
            "text/plain": [
              "<matplotlib.axes._subplots.AxesSubplot at 0x7f06b2dae290>"
            ]
          },
          "metadata": {},
          "execution_count": 34
        },
        {
          "output_type": "display_data",
          "data": {
            "image/png": "[encoded data removed]",
            "text/plain": [
              "<Figure size 432x288 with 1 Axes>"
            ]
          },
          "metadata": {
            "needs_background": "light"
          }
        }
      ]
    }
  ]
}