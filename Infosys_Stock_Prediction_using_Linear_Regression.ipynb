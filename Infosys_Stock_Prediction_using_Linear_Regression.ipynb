{
  "nbformat": 4,
  "nbformat_minor": 0,
  "metadata": {
    "colab": {
      "name": "Infosys_Stock_Prediction_using_Linear_Regression.ipynb",
      "provenance": [],
      "collapsed_sections": []
    },
    "kernelspec": {
      "name": "python3",
      "display_name": "Python 3"
    },
    "language_info": {
      "name": "python"
    }
  },
  "cells": [
    {
      "cell_type": "markdown",
      "metadata": {
        "id": "F6NdGOx1hteM"
      },
      "source": [
        "#Infosys Price Prediction Using Linear Regression"
      ]
    },
    {
      "cell_type": "markdown",
      "metadata": {
        "id": "UEwmQZLZiXjf"
      },
      "source": [
        "Collecting Infosys stock data using Twelvedata API key"
      ]
    },
    {
      "cell_type": "code",
      "metadata": {
        "id": "shFPMggWaB3Z"
      },
      "source": [
        "import requests"
      ],
      "execution_count": 277,
      "outputs": []
    },
    {
      "cell_type": "code",
      "metadata": {
        "id": "CMGujLXrUzJI"
      },
      "source": [
        "api_key = 'your_api_Key'"
      ],
      "execution_count": 278,
      "outputs": []
    },
    {
      "cell_type": "code",
      "metadata": {
        "id": "nJ__2zne-RoY",
        "colab": {
          "base_uri": "https://localhost:8080/",
          "height": 423
        },
        "outputId": "974a3c2d-890a-4df8-ec99-88c2b31cb3df"
      },
      "source": [
        "import pandas as pd\n",
        "\n",
        "ticker = 'INFY:BSE'\n",
        "interval = '1day'\n",
        "\n",
        "api_url = f'https://api.twelvedata.com/time_series?symbol={ticker}&interval={interval}&order=ASC&outputsize=4000&apikey={api_key}'\n",
        "data = requests.get(api_url).json()\n",
        "\n",
        "data1=pd.DataFrame(data['values'])\n",
        "data1"
      ],
      "execution_count": 279,
      "outputs": [
        {
          "output_type": "execute_result",
          "data": {
            "text/html": [
              "<div>\n",
              "<style scoped>\n",
              "    .dataframe tbody tr th:only-of-type {\n",
              "        vertical-align: middle;\n",
              "    }\n",
              "\n",
              "    .dataframe tbody tr th {\n",
              "        vertical-align: top;\n",
              "    }\n",
              "\n",
              "    .dataframe thead th {\n",
              "        text-align: right;\n",
              "    }\n",
              "</style>\n",
              "<table border=\"1\" class=\"dataframe\">\n",
              "  <thead>\n",
              "    <tr style=\"text-align: right;\">\n",
              "      <th></th>\n",
              "      <th>datetime</th>\n",
              "      <th>open</th>\n",
              "      <th>high</th>\n",
              "      <th>low</th>\n",
              "      <th>close</th>\n",
              "      <th>volume</th>\n",
              "    </tr>\n",
              "  </thead>\n",
              "  <tbody>\n",
              "    <tr>\n",
              "      <th>0</th>\n",
              "      <td>2005-07-15</td>\n",
              "      <td>134.37500</td>\n",
              "      <td>137.93750</td>\n",
              "      <td>133.56250</td>\n",
              "      <td>137.21249</td>\n",
              "      <td>4306400</td>\n",
              "    </tr>\n",
              "    <tr>\n",
              "      <th>1</th>\n",
              "      <td>2005-07-18</td>\n",
              "      <td>137.83749</td>\n",
              "      <td>142.48750</td>\n",
              "      <td>137.83749</td>\n",
              "      <td>142.01875</td>\n",
              "      <td>6351472</td>\n",
              "    </tr>\n",
              "    <tr>\n",
              "      <th>2</th>\n",
              "      <td>2005-07-19</td>\n",
              "      <td>142.62500</td>\n",
              "      <td>143.11874</td>\n",
              "      <td>140.63126</td>\n",
              "      <td>141.11563</td>\n",
              "      <td>2198096</td>\n",
              "    </tr>\n",
              "    <tr>\n",
              "      <th>3</th>\n",
              "      <td>2005-07-20</td>\n",
              "      <td>141.06250</td>\n",
              "      <td>141.87500</td>\n",
              "      <td>139.31250</td>\n",
              "      <td>139.54688</td>\n",
              "      <td>2031152</td>\n",
              "    </tr>\n",
              "    <tr>\n",
              "      <th>4</th>\n",
              "      <td>2005-07-21</td>\n",
              "      <td>140.50000</td>\n",
              "      <td>140.81250</td>\n",
              "      <td>137.50313</td>\n",
              "      <td>138.13437</td>\n",
              "      <td>3223216</td>\n",
              "    </tr>\n",
              "    <tr>\n",
              "      <th>...</th>\n",
              "      <td>...</td>\n",
              "      <td>...</td>\n",
              "      <td>...</td>\n",
              "      <td>...</td>\n",
              "      <td>...</td>\n",
              "      <td>...</td>\n",
              "    </tr>\n",
              "    <tr>\n",
              "      <th>3995</th>\n",
              "      <td>2021-10-08</td>\n",
              "      <td>1704.00000</td>\n",
              "      <td>1731.00000</td>\n",
              "      <td>1698.19995</td>\n",
              "      <td>1723.55005</td>\n",
              "      <td>343733</td>\n",
              "    </tr>\n",
              "    <tr>\n",
              "      <th>3996</th>\n",
              "      <td>2021-10-11</td>\n",
              "      <td>1678.15002</td>\n",
              "      <td>1730.30005</td>\n",
              "      <td>1663.94995</td>\n",
              "      <td>1692.00000</td>\n",
              "      <td>240721</td>\n",
              "    </tr>\n",
              "    <tr>\n",
              "      <th>3997</th>\n",
              "      <td>2021-10-12</td>\n",
              "      <td>1684.00000</td>\n",
              "      <td>1689.00000</td>\n",
              "      <td>1662.00000</td>\n",
              "      <td>1684.80005</td>\n",
              "      <td>313692</td>\n",
              "    </tr>\n",
              "    <tr>\n",
              "      <th>3998</th>\n",
              "      <td>2021-10-13</td>\n",
              "      <td>1692.00000</td>\n",
              "      <td>1713.50000</td>\n",
              "      <td>1681.30005</td>\n",
              "      <td>1708.69995</td>\n",
              "      <td>130135</td>\n",
              "    </tr>\n",
              "    <tr>\n",
              "      <th>3999</th>\n",
              "      <td>2021-10-14</td>\n",
              "      <td>1744.00000</td>\n",
              "      <td>1784.05005</td>\n",
              "      <td>1698.25000</td>\n",
              "      <td>1715.50000</td>\n",
              "      <td>495333</td>\n",
              "    </tr>\n",
              "  </tbody>\n",
              "</table>\n",
              "<p>4000 rows × 6 columns</p>\n",
              "</div>"
            ],
            "text/plain": [
              "        datetime        open        high         low       close   volume\n",
              "0     2005-07-15   134.37500   137.93750   133.56250   137.21249  4306400\n",
              "1     2005-07-18   137.83749   142.48750   137.83749   142.01875  6351472\n",
              "2     2005-07-19   142.62500   143.11874   140.63126   141.11563  2198096\n",
              "3     2005-07-20   141.06250   141.87500   139.31250   139.54688  2031152\n",
              "4     2005-07-21   140.50000   140.81250   137.50313   138.13437  3223216\n",
              "...          ...         ...         ...         ...         ...      ...\n",
              "3995  2021-10-08  1704.00000  1731.00000  1698.19995  1723.55005   343733\n",
              "3996  2021-10-11  1678.15002  1730.30005  1663.94995  1692.00000   240721\n",
              "3997  2021-10-12  1684.00000  1689.00000  1662.00000  1684.80005   313692\n",
              "3998  2021-10-13  1692.00000  1713.50000  1681.30005  1708.69995   130135\n",
              "3999  2021-10-14  1744.00000  1784.05005  1698.25000  1715.50000   495333\n",
              "\n",
              "[4000 rows x 6 columns]"
            ]
          },
          "metadata": {},
          "execution_count": 279
        }
      ]
    },
    {
      "cell_type": "markdown",
      "metadata": {
        "id": "3RJieJUcjJM0"
      },
      "source": [
        "Importing required Libraries"
      ]
    },
    {
      "cell_type": "code",
      "metadata": {
        "id": "WnvLsd8H-QoS"
      },
      "source": [
        "import pandas as pd\n",
        "import numpy as np\n",
        "from sklearn import metrics\n",
        "%matplotlib inline\n",
        "import matplotlib.pyplot as plt "
      ],
      "execution_count": 280,
      "outputs": []
    },
    {
      "cell_type": "markdown",
      "metadata": {
        "id": "OpmKgxbLj7fQ"
      },
      "source": [
        "Loading Data"
      ]
    },
    {
      "cell_type": "code",
      "metadata": {
        "colab": {
          "base_uri": "https://localhost:8080/",
          "height": 206
        },
        "id": "Bx1WyJTycRb6",
        "outputId": "6b919a03-3f6b-4af2-9888-c34fa2fca9b8"
      },
      "source": [
        "data1.head()"
      ],
      "execution_count": 281,
      "outputs": [
        {
          "output_type": "execute_result",
          "data": {
            "text/html": [
              "<div>\n",
              "<style scoped>\n",
              "    .dataframe tbody tr th:only-of-type {\n",
              "        vertical-align: middle;\n",
              "    }\n",
              "\n",
              "    .dataframe tbody tr th {\n",
              "        vertical-align: top;\n",
              "    }\n",
              "\n",
              "    .dataframe thead th {\n",
              "        text-align: right;\n",
              "    }\n",
              "</style>\n",
              "<table border=\"1\" class=\"dataframe\">\n",
              "  <thead>\n",
              "    <tr style=\"text-align: right;\">\n",
              "      <th></th>\n",
              "      <th>datetime</th>\n",
              "      <th>open</th>\n",
              "      <th>high</th>\n",
              "      <th>low</th>\n",
              "      <th>close</th>\n",
              "      <th>volume</th>\n",
              "    </tr>\n",
              "  </thead>\n",
              "  <tbody>\n",
              "    <tr>\n",
              "      <th>0</th>\n",
              "      <td>2005-07-15</td>\n",
              "      <td>134.37500</td>\n",
              "      <td>137.93750</td>\n",
              "      <td>133.56250</td>\n",
              "      <td>137.21249</td>\n",
              "      <td>4306400</td>\n",
              "    </tr>\n",
              "    <tr>\n",
              "      <th>1</th>\n",
              "      <td>2005-07-18</td>\n",
              "      <td>137.83749</td>\n",
              "      <td>142.48750</td>\n",
              "      <td>137.83749</td>\n",
              "      <td>142.01875</td>\n",
              "      <td>6351472</td>\n",
              "    </tr>\n",
              "    <tr>\n",
              "      <th>2</th>\n",
              "      <td>2005-07-19</td>\n",
              "      <td>142.62500</td>\n",
              "      <td>143.11874</td>\n",
              "      <td>140.63126</td>\n",
              "      <td>141.11563</td>\n",
              "      <td>2198096</td>\n",
              "    </tr>\n",
              "    <tr>\n",
              "      <th>3</th>\n",
              "      <td>2005-07-20</td>\n",
              "      <td>141.06250</td>\n",
              "      <td>141.87500</td>\n",
              "      <td>139.31250</td>\n",
              "      <td>139.54688</td>\n",
              "      <td>2031152</td>\n",
              "    </tr>\n",
              "    <tr>\n",
              "      <th>4</th>\n",
              "      <td>2005-07-21</td>\n",
              "      <td>140.50000</td>\n",
              "      <td>140.81250</td>\n",
              "      <td>137.50313</td>\n",
              "      <td>138.13437</td>\n",
              "      <td>3223216</td>\n",
              "    </tr>\n",
              "  </tbody>\n",
              "</table>\n",
              "</div>"
            ],
            "text/plain": [
              "     datetime       open       high        low      close   volume\n",
              "0  2005-07-15  134.37500  137.93750  133.56250  137.21249  4306400\n",
              "1  2005-07-18  137.83749  142.48750  137.83749  142.01875  6351472\n",
              "2  2005-07-19  142.62500  143.11874  140.63126  141.11563  2198096\n",
              "3  2005-07-20  141.06250  141.87500  139.31250  139.54688  2031152\n",
              "4  2005-07-21  140.50000  140.81250  137.50313  138.13437  3223216"
            ]
          },
          "metadata": {},
          "execution_count": 281
        }
      ]
    },
    {
      "cell_type": "markdown",
      "metadata": {
        "id": "aVGLuvT2nf6n"
      },
      "source": [
        "Convrting Object data type into Float datatype"
      ]
    },
    {
      "cell_type": "code",
      "metadata": {
        "id": "8Dz2iuB4JS-2"
      },
      "source": [
        "data1['datetime'] = pd.to_datetime(data1.datetime)"
      ],
      "execution_count": 282,
      "outputs": []
    },
    {
      "cell_type": "code",
      "metadata": {
        "id": "utxDTKAIc70i"
      },
      "source": [
        "data1['open']=data1['open'].astype(float)\n",
        "data1['high']=data1['high'].astype(float)\n",
        "data1['low']=data1['low'].astype(float)\n",
        "data1['close']=data1['close'].astype(float)\n",
        "data1['volume']=data1['volume'].astype(float)"
      ],
      "execution_count": 283,
      "outputs": []
    },
    {
      "cell_type": "code",
      "metadata": {
        "id": "8lwxinRkCXtz",
        "colab": {
          "base_uri": "https://localhost:8080/"
        },
        "outputId": "13936847-75be-4824-e747-60c801296be9"
      },
      "source": [
        "data1.shape"
      ],
      "execution_count": 284,
      "outputs": [
        {
          "output_type": "execute_result",
          "data": {
            "text/plain": [
              "(4000, 6)"
            ]
          },
          "metadata": {},
          "execution_count": 284
        }
      ]
    },
    {
      "cell_type": "code",
      "metadata": {
        "colab": {
          "base_uri": "https://localhost:8080/",
          "height": 206
        },
        "id": "_d9puTg7d8te",
        "outputId": "2e157184-50cf-41ca-d614-a8f9d66520ee"
      },
      "source": [
        "data1.head()"
      ],
      "execution_count": 285,
      "outputs": [
        {
          "output_type": "execute_result",
          "data": {
            "text/html": [
              "<div>\n",
              "<style scoped>\n",
              "    .dataframe tbody tr th:only-of-type {\n",
              "        vertical-align: middle;\n",
              "    }\n",
              "\n",
              "    .dataframe tbody tr th {\n",
              "        vertical-align: top;\n",
              "    }\n",
              "\n",
              "    .dataframe thead th {\n",
              "        text-align: right;\n",
              "    }\n",
              "</style>\n",
              "<table border=\"1\" class=\"dataframe\">\n",
              "  <thead>\n",
              "    <tr style=\"text-align: right;\">\n",
              "      <th></th>\n",
              "      <th>datetime</th>\n",
              "      <th>open</th>\n",
              "      <th>high</th>\n",
              "      <th>low</th>\n",
              "      <th>close</th>\n",
              "      <th>volume</th>\n",
              "    </tr>\n",
              "  </thead>\n",
              "  <tbody>\n",
              "    <tr>\n",
              "      <th>0</th>\n",
              "      <td>2005-07-15</td>\n",
              "      <td>134.37500</td>\n",
              "      <td>137.93750</td>\n",
              "      <td>133.56250</td>\n",
              "      <td>137.21249</td>\n",
              "      <td>4306400.0</td>\n",
              "    </tr>\n",
              "    <tr>\n",
              "      <th>1</th>\n",
              "      <td>2005-07-18</td>\n",
              "      <td>137.83749</td>\n",
              "      <td>142.48750</td>\n",
              "      <td>137.83749</td>\n",
              "      <td>142.01875</td>\n",
              "      <td>6351472.0</td>\n",
              "    </tr>\n",
              "    <tr>\n",
              "      <th>2</th>\n",
              "      <td>2005-07-19</td>\n",
              "      <td>142.62500</td>\n",
              "      <td>143.11874</td>\n",
              "      <td>140.63126</td>\n",
              "      <td>141.11563</td>\n",
              "      <td>2198096.0</td>\n",
              "    </tr>\n",
              "    <tr>\n",
              "      <th>3</th>\n",
              "      <td>2005-07-20</td>\n",
              "      <td>141.06250</td>\n",
              "      <td>141.87500</td>\n",
              "      <td>139.31250</td>\n",
              "      <td>139.54688</td>\n",
              "      <td>2031152.0</td>\n",
              "    </tr>\n",
              "    <tr>\n",
              "      <th>4</th>\n",
              "      <td>2005-07-21</td>\n",
              "      <td>140.50000</td>\n",
              "      <td>140.81250</td>\n",
              "      <td>137.50313</td>\n",
              "      <td>138.13437</td>\n",
              "      <td>3223216.0</td>\n",
              "    </tr>\n",
              "  </tbody>\n",
              "</table>\n",
              "</div>"
            ],
            "text/plain": [
              "    datetime       open       high        low      close     volume\n",
              "0 2005-07-15  134.37500  137.93750  133.56250  137.21249  4306400.0\n",
              "1 2005-07-18  137.83749  142.48750  137.83749  142.01875  6351472.0\n",
              "2 2005-07-19  142.62500  143.11874  140.63126  141.11563  2198096.0\n",
              "3 2005-07-20  141.06250  141.87500  139.31250  139.54688  2031152.0\n",
              "4 2005-07-21  140.50000  140.81250  137.50313  138.13437  3223216.0"
            ]
          },
          "metadata": {},
          "execution_count": 285
        }
      ]
    },
    {
      "cell_type": "code",
      "metadata": {
        "colab": {
          "base_uri": "https://localhost:8080/"
        },
        "id": "vf7KLXWUWw2-",
        "outputId": "d34a4f72-ce12-4a9d-8201-a27bdc476cb0"
      },
      "source": [
        "data1.isnull().sum()"
      ],
      "execution_count": 286,
      "outputs": [
        {
          "output_type": "execute_result",
          "data": {
            "text/plain": [
              "datetime    0\n",
              "open        0\n",
              "high        0\n",
              "low         0\n",
              "close       0\n",
              "volume      0\n",
              "dtype: int64"
            ]
          },
          "metadata": {},
          "execution_count": 286
        }
      ]
    },
    {
      "cell_type": "code",
      "metadata": {
        "colab": {
          "base_uri": "https://localhost:8080/"
        },
        "id": "arYVJy8Je5KI",
        "outputId": "2cca805a-0502-41df-882e-5cc715ab5407"
      },
      "source": [
        "data1.info()"
      ],
      "execution_count": 287,
      "outputs": [
        {
          "output_type": "stream",
          "name": "stdout",
          "text": [
            "<class 'pandas.core.frame.DataFrame'>\n",
            "RangeIndex: 4000 entries, 0 to 3999\n",
            "Data columns (total 6 columns):\n",
            " #   Column    Non-Null Count  Dtype         \n",
            "---  ------    --------------  -----         \n",
            " 0   datetime  4000 non-null   datetime64[ns]\n",
            " 1   open      4000 non-null   float64       \n",
            " 2   high      4000 non-null   float64       \n",
            " 3   low       4000 non-null   float64       \n",
            " 4   close     4000 non-null   float64       \n",
            " 5   volume    4000 non-null   float64       \n",
            "dtypes: datetime64[ns](1), float64(5)\n",
            "memory usage: 187.6 KB\n"
          ]
        }
      ]
    },
    {
      "cell_type": "code",
      "metadata": {
        "id": "PIJRqt7tCvkJ",
        "colab": {
          "base_uri": "https://localhost:8080/",
          "height": 300
        },
        "outputId": "467fbd93-5558-46c5-8e74-f51cd4fb0663"
      },
      "source": [
        "data1.describe()"
      ],
      "execution_count": 288,
      "outputs": [
        {
          "output_type": "execute_result",
          "data": {
            "text/html": [
              "<div>\n",
              "<style scoped>\n",
              "    .dataframe tbody tr th:only-of-type {\n",
              "        vertical-align: middle;\n",
              "    }\n",
              "\n",
              "    .dataframe tbody tr th {\n",
              "        vertical-align: top;\n",
              "    }\n",
              "\n",
              "    .dataframe thead th {\n",
              "        text-align: right;\n",
              "    }\n",
              "</style>\n",
              "<table border=\"1\" class=\"dataframe\">\n",
              "  <thead>\n",
              "    <tr style=\"text-align: right;\">\n",
              "      <th></th>\n",
              "      <th>open</th>\n",
              "      <th>high</th>\n",
              "      <th>low</th>\n",
              "      <th>close</th>\n",
              "      <th>volume</th>\n",
              "    </tr>\n",
              "  </thead>\n",
              "  <tbody>\n",
              "    <tr>\n",
              "      <th>count</th>\n",
              "      <td>4000.000000</td>\n",
              "      <td>4000.000000</td>\n",
              "      <td>4000.000000</td>\n",
              "      <td>4000.000000</td>\n",
              "      <td>4.000000e+03</td>\n",
              "    </tr>\n",
              "    <tr>\n",
              "      <th>mean</th>\n",
              "      <td>477.315980</td>\n",
              "      <td>482.552301</td>\n",
              "      <td>471.836355</td>\n",
              "      <td>477.103895</td>\n",
              "      <td>1.242580e+06</td>\n",
              "    </tr>\n",
              "    <tr>\n",
              "      <th>std</th>\n",
              "      <td>304.763514</td>\n",
              "      <td>307.644176</td>\n",
              "      <td>301.961275</td>\n",
              "      <td>304.760109</td>\n",
              "      <td>1.705302e+06</td>\n",
              "    </tr>\n",
              "    <tr>\n",
              "      <th>min</th>\n",
              "      <td>134.375000</td>\n",
              "      <td>137.937500</td>\n",
              "      <td>133.125000</td>\n",
              "      <td>137.212490</td>\n",
              "      <td>0.000000e+00</td>\n",
              "    </tr>\n",
              "    <tr>\n",
              "      <th>25%</th>\n",
              "      <td>277.468750</td>\n",
              "      <td>279.996872</td>\n",
              "      <td>273.125000</td>\n",
              "      <td>276.429688</td>\n",
              "      <td>3.377845e+05</td>\n",
              "    </tr>\n",
              "    <tr>\n",
              "      <th>50%</th>\n",
              "      <td>393.687500</td>\n",
              "      <td>397.318755</td>\n",
              "      <td>388.631255</td>\n",
              "      <td>393.859375</td>\n",
              "      <td>6.355120e+05</td>\n",
              "    </tr>\n",
              "    <tr>\n",
              "      <th>75%</th>\n",
              "      <td>573.000000</td>\n",
              "      <td>580.000000</td>\n",
              "      <td>566.062513</td>\n",
              "      <td>573.462495</td>\n",
              "      <td>1.481098e+06</td>\n",
              "    </tr>\n",
              "    <tr>\n",
              "      <th>max</th>\n",
              "      <td>1770.849980</td>\n",
              "      <td>1787.500000</td>\n",
              "      <td>1752.199950</td>\n",
              "      <td>1763.449950</td>\n",
              "      <td>2.565221e+07</td>\n",
              "    </tr>\n",
              "  </tbody>\n",
              "</table>\n",
              "</div>"
            ],
            "text/plain": [
              "              open         high          low        close        volume\n",
              "count  4000.000000  4000.000000  4000.000000  4000.000000  4.000000e+03\n",
              "mean    477.315980   482.552301   471.836355   477.103895  1.242580e+06\n",
              "std     304.763514   307.644176   301.961275   304.760109  1.705302e+06\n",
              "min     134.375000   137.937500   133.125000   137.212490  0.000000e+00\n",
              "25%     277.468750   279.996872   273.125000   276.429688  3.377845e+05\n",
              "50%     393.687500   397.318755   388.631255   393.859375  6.355120e+05\n",
              "75%     573.000000   580.000000   566.062513   573.462495  1.481098e+06\n",
              "max    1770.849980  1787.500000  1752.199950  1763.449950  2.565221e+07"
            ]
          },
          "metadata": {},
          "execution_count": 288
        }
      ]
    },
    {
      "cell_type": "code",
      "metadata": {
        "colab": {
          "base_uri": "https://localhost:8080/"
        },
        "id": "1ueUx7tgHuWw",
        "outputId": "2539c059-ce99-4fd3-a92c-f2ffa6f4c6ca"
      },
      "source": [
        "print(len(data1))"
      ],
      "execution_count": 289,
      "outputs": [
        {
          "output_type": "stream",
          "name": "stdout",
          "text": [
            "4000\n"
          ]
        }
      ]
    },
    {
      "cell_type": "code",
      "metadata": {
        "colab": {
          "base_uri": "https://localhost:8080/",
          "height": 390
        },
        "id": "YIPQiFFyDMrn",
        "outputId": "67ba097c-ebef-4e80-9091-f72cf8ef5493"
      },
      "source": [
        "data1['open'].plot(figsize=(20,6))"
      ],
      "execution_count": 290,
      "outputs": [
        {
          "output_type": "execute_result",
          "data": {
            "text/plain": [
              "<matplotlib.axes._subplots.AxesSubplot at 0x7f4335b4f050>"
            ]
          },
          "metadata": {},
          "execution_count": 290
        },
        {
          "output_type": "display_data",
          "data": {
            "image/png": "[encoded data removed]",
            "text/plain": [
              "<Figure size 1440x432 with 1 Axes>"
            ]
          },
          "metadata": {
            "needs_background": "light"
          }
        }
      ]
    },
    {
      "cell_type": "markdown",
      "metadata": {
        "id": "OZAVDYXQkjvx"
      },
      "source": [
        "Separate the Input and Output Columns"
      ]
    },
    {
      "cell_type": "code",
      "metadata": {
        "id": "3SSetGZjM1w9"
      },
      "source": [
        "x = data1[['open', 'high', 'low', 'volume']]\n",
        "y = data1['close']"
      ],
      "execution_count": 291,
      "outputs": []
    },
    {
      "cell_type": "markdown",
      "metadata": {
        "id": "eJVKgjvsmkwm"
      },
      "source": [
        "Spliting the Train and Test data"
      ]
    },
    {
      "cell_type": "code",
      "metadata": {
        "id": "tbRLxPwuO0Jt"
      },
      "source": [
        "from sklearn.model_selection import train_test_split\n",
        "x_train, x_test, y_train, y_test = train_test_split(x,y,train_size=0.998, random_state = 100)"
      ],
      "execution_count": 292,
      "outputs": []
    },
    {
      "cell_type": "code",
      "metadata": {
        "colab": {
          "base_uri": "https://localhost:8080/"
        },
        "id": "1DbjQHu7PEeN",
        "outputId": "1f062b07-f392-41ec-a7c1-fa29b179bae3"
      },
      "source": [
        "x_train.shape"
      ],
      "execution_count": 293,
      "outputs": [
        {
          "output_type": "execute_result",
          "data": {
            "text/plain": [
              "(3992, 4)"
            ]
          },
          "metadata": {},
          "execution_count": 293
        }
      ]
    },
    {
      "cell_type": "code",
      "metadata": {
        "colab": {
          "base_uri": "https://localhost:8080/"
        },
        "id": "FY8OXft5PT1w",
        "outputId": "93a96fde-c83a-4d93-db35-1879aa3f69e2"
      },
      "source": [
        "x_test.shape"
      ],
      "execution_count": 294,
      "outputs": [
        {
          "output_type": "execute_result",
          "data": {
            "text/plain": [
              "(8, 4)"
            ]
          },
          "metadata": {},
          "execution_count": 294
        }
      ]
    },
    {
      "cell_type": "markdown",
      "metadata": {
        "id": "pgYv5Hq2m2qm"
      },
      "source": [
        "####Linear Regression Model"
      ]
    },
    {
      "cell_type": "code",
      "metadata": {
        "id": "N4CYWO6FPkFv"
      },
      "source": [
        "from sklearn.linear_model import LinearRegression\n",
        "from sklearn.metrics import confusion_matrix, accuracy_score\n",
        "LR = LinearRegression()"
      ],
      "execution_count": 295,
      "outputs": []
    },
    {
      "cell_type": "markdown",
      "metadata": {
        "id": "PdeuoQ3QnGbs"
      },
      "source": [
        "Fitting the data in the Model"
      ]
    },
    {
      "cell_type": "code",
      "metadata": {
        "colab": {
          "base_uri": "https://localhost:8080/"
        },
        "id": "H7i249wbOX89",
        "outputId": "d40bde3a-cba1-498c-8779-13f2da56e07d"
      },
      "source": [
        "LR.fit(x_train,y_train)"
      ],
      "execution_count": 296,
      "outputs": [
        {
          "output_type": "execute_result",
          "data": {
            "text/plain": [
              "LinearRegression(copy_X=True, fit_intercept=True, n_jobs=None, normalize=False)"
            ]
          },
          "metadata": {},
          "execution_count": 296
        }
      ]
    },
    {
      "cell_type": "code",
      "metadata": {
        "colab": {
          "base_uri": "https://localhost:8080/"
        },
        "id": "OjFbFdC1QhiM",
        "outputId": "5498a16e-373a-4d80-8a03-42e99554f04e"
      },
      "source": [
        "print(LR.coef_)"
      ],
      "execution_count": 297,
      "outputs": [
        {
          "output_type": "stream",
          "name": "stdout",
          "text": [
            "[-5.11943086e-01  7.42807427e-01  7.69150369e-01  1.97602977e-08]\n"
          ]
        }
      ]
    },
    {
      "cell_type": "code",
      "metadata": {
        "colab": {
          "base_uri": "https://localhost:8080/"
        },
        "id": "DyJFeirkQ1Vm",
        "outputId": "cfc427b5-d8d9-4f1c-f6ba-fc7594369fd3"
      },
      "source": [
        "print(LR.intercept_)"
      ],
      "execution_count": 298,
      "outputs": [
        {
          "output_type": "stream",
          "name": "stdout",
          "text": [
            "0.08297961024834422\n"
          ]
        }
      ]
    },
    {
      "cell_type": "markdown",
      "metadata": {
        "id": "QiA1UONshn4z"
      },
      "source": [
        "Prediction"
      ]
    },
    {
      "cell_type": "code",
      "metadata": {
        "colab": {
          "base_uri": "https://localhost:8080/"
        },
        "id": "pOxzXBkDPBjt",
        "outputId": "1d650f8d-29b8-45ea-f7ff-b7c4d716d326"
      },
      "source": [
        "predicted = LR.predict(x_test)\n",
        "print(predicted)"
      ],
      "execution_count": 299,
      "outputs": [
        {
          "output_type": "stream",
          "name": "stdout",
          "text": [
            "[681.08543994 159.85155289 275.70675584 420.07630793 532.69817919\n",
            " 408.15736274 481.92264556 444.5559704 ]\n"
          ]
        }
      ]
    },
    {
      "cell_type": "code",
      "metadata": {
        "colab": {
          "base_uri": "https://localhost:8080/"
        },
        "id": "XXZ9FMg4RysR",
        "outputId": "8cb44fea-8fa5-4939-aa43-20380b5e5823"
      },
      "source": [
        "predicted.shape"
      ],
      "execution_count": 300,
      "outputs": [
        {
          "output_type": "execute_result",
          "data": {
            "text/plain": [
              "(8,)"
            ]
          },
          "metadata": {},
          "execution_count": 300
        }
      ]
    },
    {
      "cell_type": "code",
      "metadata": {
        "id": "PNQqAajzSOAK"
      },
      "source": [
        "dframe=pd.DataFrame(y_test,predicted)"
      ],
      "execution_count": 301,
      "outputs": []
    },
    {
      "cell_type": "code",
      "metadata": {
        "id": "CmIYAAG8S36h"
      },
      "source": [
        "dfr=pd.DataFrame({'Actual Price':y_test,'Predicted Price':predicted})"
      ],
      "execution_count": 302,
      "outputs": []
    },
    {
      "cell_type": "code",
      "metadata": {
        "colab": {
          "base_uri": "https://localhost:8080/"
        },
        "id": "Q7zq0bcxSnI7",
        "outputId": "994c8dce-3bdc-4413-f2cf-0d42e10f235f"
      },
      "source": [
        "print(dfr)"
      ],
      "execution_count": 303,
      "outputs": [
        {
          "output_type": "stream",
          "name": "stdout",
          "text": [
            "      Actual Price  Predicted Price\n",
            "3218     681.45001       681.085440\n",
            "883      157.29375       159.851553\n",
            "367      273.95001       275.706756\n",
            "2226     421.00626       420.076308\n",
            "2578     531.32501       532.698179\n",
            "2219     406.64999       408.157363\n",
            "2911     480.85001       481.922646\n",
            "2080     445.28125       444.555970\n"
          ]
        }
      ]
    },
    {
      "cell_type": "code",
      "metadata": {
        "id": "d3TVPlTKY-1a"
      },
      "source": [
        "graph=dfr.head(20)"
      ],
      "execution_count": 304,
      "outputs": []
    },
    {
      "cell_type": "code",
      "metadata": {
        "colab": {
          "base_uri": "https://localhost:8080/",
          "height": 299
        },
        "id": "u6A8-IMzZErB",
        "outputId": "c3d8329c-f7fa-479f-c15f-566ceaa07269"
      },
      "source": [
        "graph.plot(kind='bar')"
      ],
      "execution_count": 305,
      "outputs": [
        {
          "output_type": "execute_result",
          "data": {
            "text/plain": [
              "<matplotlib.axes._subplots.AxesSubplot at 0x7f433525ae10>"
            ]
          },
          "metadata": {},
          "execution_count": 305
        },
        {
          "output_type": "display_data",
          "data": {
            "image/png": "[encoded data removed]",
            "text/plain": [
              "<Figure size 432x288 with 1 Axes>"
            ]
          },
          "metadata": {
            "needs_background": "light"
          }
        }
      ]
    },
    {
      "cell_type": "code",
      "metadata": {
        "id": "AFAdbHwnZ3Vv"
      },
      "source": [
        "from sklearn.metrics import confusion_matrix, accuracy_score"
      ],
      "execution_count": 306,
      "outputs": []
    },
    {
      "cell_type": "code",
      "metadata": {
        "id": "ZjZ3_D7YOX_-",
        "colab": {
          "base_uri": "https://localhost:8080/"
        },
        "outputId": "05cc0a77-40cb-4137-fac1-2ac2a5fe9fdb"
      },
      "source": [
        "LR.score(x_test,y_test)"
      ],
      "execution_count": 307,
      "outputs": [
        {
          "output_type": "execute_result",
          "data": {
            "text/plain": [
              "0.999906173841088"
            ]
          },
          "metadata": {},
          "execution_count": 307
        }
      ]
    },
    {
      "cell_type": "code",
      "metadata": {
        "colab": {
          "base_uri": "https://localhost:8080/"
        },
        "id": "JPN92CALpDua",
        "outputId": "2e65dd45-4c9e-4ba6-9871-53f2b348c3f3"
      },
      "source": [
        "import math\n",
        "print('Mean Absolute Error:', metrics.mean_absolute_error(y_test,predicted))\n",
        "print('Mean Squared Error:', metrics.mean_squared_error(y_test,predicted))\n",
        "print('Root Mean Squared Error:', math.sqrt(metrics.mean_squared_error(y_test,predicted)))"
      ],
      "execution_count": 308,
      "outputs": [
        {
          "output_type": "stream",
          "name": "stdout",
          "text": [
            "Mean Absolute Error: 1.2859409942488433\n",
            "Mean Squared Error: 2.0575721886540643\n",
            "Root Mean Squared Error: 1.4344239919403412\n"
          ]
        }
      ]
    }
  ]
}