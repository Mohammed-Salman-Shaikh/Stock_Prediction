{
  "nbformat": 4,
  "nbformat_minor": 0,
  "metadata": {
    "colab": {
      "name": "Infosys_Stock_Prediction_using_Linear_Regression.ipynb",
      "provenance": [],
      "collapsed_sections": []
    },
    "kernelspec": {
      "name": "python3",
      "display_name": "Python 3"
    },
    "language_info": {
      "name": "python"
    }
  },
  "cells": [
    {
      "cell_type": "code",
      "metadata": {
        "id": "shFPMggWaB3Z"
      },
      "source": [
        "import requests"
      ],
      "execution_count": null,
      "outputs": []
    },
    {
      "cell_type": "code",
      "metadata": {
        "id": "nJ__2zne-RoY"
      },
      "source": [
        "api_key= 'c62690a9cb76412088a2427a2394b72f'"
      ],
      "execution_count": null,
      "outputs": []
    },
    {
      "cell_type": "code",
      "metadata": {
        "id": "fCB2bfSw-QkV"
      },
      "source": [
        "#ticker = 'INFY'\n",
        "#interval = '1day'\n",
        "\n",
        "api_url = 'https://api.twelvedata.com/time_series?symbol=INFY:BSE&interval=1day&outputsize=200&apikey=demo'\n",
        "\n",
        "data = requests.get(api_url).json()"
      ],
      "execution_count": null,
      "outputs": []
    },
    {
      "cell_type": "code",
      "metadata": {
        "id": "WnvLsd8H-QoS"
      },
      "source": [
        "import pandas as pd\n",
        "import numpy as np\n",
        "from sklearn import metrics\n",
        "%matplotlib inline\n",
        "import matplotlib.pyplot as plt "
      ],
      "execution_count": null,
      "outputs": []
    },
    {
      "cell_type": "code",
      "metadata": {
        "colab": {
          "base_uri": "https://localhost:8080/",
          "height": 423
        },
        "id": "Bx1WyJTycRb6",
        "outputId": "68caa666-8409-4dab-909b-368cfaf1aed2"
      },
      "source": [
        "data1= pd.DataFrame(data['values'])\n",
        "data1"
      ],
      "execution_count": null,
      "outputs": [
        {
          "output_type": "execute_result",
          "data": {
            "text/html": [
              "<div>\n",
              "<style scoped>\n",
              "    .dataframe tbody tr th:only-of-type {\n",
              "        vertical-align: middle;\n",
              "    }\n",
              "\n",
              "    .dataframe tbody tr th {\n",
              "        vertical-align: top;\n",
              "    }\n",
              "\n",
              "    .dataframe thead th {\n",
              "        text-align: right;\n",
              "    }\n",
              "</style>\n",
              "<table border=\"1\" class=\"dataframe\">\n",
              "  <thead>\n",
              "    <tr style=\"text-align: right;\">\n",
              "      <th></th>\n",
              "      <th>datetime</th>\n",
              "      <th>open</th>\n",
              "      <th>high</th>\n",
              "      <th>low</th>\n",
              "      <th>close</th>\n",
              "      <th>volume</th>\n",
              "    </tr>\n",
              "  </thead>\n",
              "  <tbody>\n",
              "    <tr>\n",
              "      <th>0</th>\n",
              "      <td>2021-10-13</td>\n",
              "      <td>1693.55005</td>\n",
              "      <td>1713.50000</td>\n",
              "      <td>1681.25000</td>\n",
              "      <td>1708.75000</td>\n",
              "      <td>130116</td>\n",
              "    </tr>\n",
              "    <tr>\n",
              "      <th>1</th>\n",
              "      <td>2021-10-12</td>\n",
              "      <td>1684.00000</td>\n",
              "      <td>1689.00000</td>\n",
              "      <td>1662.00000</td>\n",
              "      <td>1684.80005</td>\n",
              "      <td>313692</td>\n",
              "    </tr>\n",
              "    <tr>\n",
              "      <th>2</th>\n",
              "      <td>2021-10-11</td>\n",
              "      <td>1678.15002</td>\n",
              "      <td>1730.30005</td>\n",
              "      <td>1663.94995</td>\n",
              "      <td>1692.00000</td>\n",
              "      <td>240721</td>\n",
              "    </tr>\n",
              "    <tr>\n",
              "      <th>3</th>\n",
              "      <td>2021-10-08</td>\n",
              "      <td>1704.00000</td>\n",
              "      <td>1731.00000</td>\n",
              "      <td>1698.19995</td>\n",
              "      <td>1723.55005</td>\n",
              "      <td>343733</td>\n",
              "    </tr>\n",
              "    <tr>\n",
              "      <th>4</th>\n",
              "      <td>2021-10-07</td>\n",
              "      <td>1685.00000</td>\n",
              "      <td>1703.80005</td>\n",
              "      <td>1677.00000</td>\n",
              "      <td>1691.30005</td>\n",
              "      <td>289790</td>\n",
              "    </tr>\n",
              "    <tr>\n",
              "      <th>...</th>\n",
              "      <td>...</td>\n",
              "      <td>...</td>\n",
              "      <td>...</td>\n",
              "      <td>...</td>\n",
              "      <td>...</td>\n",
              "      <td>...</td>\n",
              "    </tr>\n",
              "    <tr>\n",
              "      <th>195</th>\n",
              "      <td>2020-12-30</td>\n",
              "      <td>1252.90002</td>\n",
              "      <td>1253.90002</td>\n",
              "      <td>1238.55005</td>\n",
              "      <td>1246.19995</td>\n",
              "      <td>139790</td>\n",
              "    </tr>\n",
              "    <tr>\n",
              "      <th>196</th>\n",
              "      <td>2020-12-29</td>\n",
              "      <td>1237.00000</td>\n",
              "      <td>1254.50000</td>\n",
              "      <td>1236.55005</td>\n",
              "      <td>1250.15002</td>\n",
              "      <td>241078</td>\n",
              "    </tr>\n",
              "    <tr>\n",
              "      <th>197</th>\n",
              "      <td>2020-12-28</td>\n",
              "      <td>1237.34998</td>\n",
              "      <td>1248.00000</td>\n",
              "      <td>1236.15002</td>\n",
              "      <td>1240.09998</td>\n",
              "      <td>252593</td>\n",
              "    </tr>\n",
              "    <tr>\n",
              "      <th>198</th>\n",
              "      <td>2020-12-24</td>\n",
              "      <td>1265.00000</td>\n",
              "      <td>1265.00000</td>\n",
              "      <td>1226.09998</td>\n",
              "      <td>1236.34998</td>\n",
              "      <td>503008</td>\n",
              "    </tr>\n",
              "    <tr>\n",
              "      <th>199</th>\n",
              "      <td>2020-12-23</td>\n",
              "      <td>1242.94995</td>\n",
              "      <td>1259.00000</td>\n",
              "      <td>1231.00000</td>\n",
              "      <td>1252.94995</td>\n",
              "      <td>1049211</td>\n",
              "    </tr>\n",
              "  </tbody>\n",
              "</table>\n",
              "<p>200 rows × 6 columns</p>\n",
              "</div>"
            ],
            "text/plain": [
              "       datetime        open        high         low       close   volume\n",
              "0    2021-10-13  1693.55005  1713.50000  1681.25000  1708.75000   130116\n",
              "1    2021-10-12  1684.00000  1689.00000  1662.00000  1684.80005   313692\n",
              "2    2021-10-11  1678.15002  1730.30005  1663.94995  1692.00000   240721\n",
              "3    2021-10-08  1704.00000  1731.00000  1698.19995  1723.55005   343733\n",
              "4    2021-10-07  1685.00000  1703.80005  1677.00000  1691.30005   289790\n",
              "..          ...         ...         ...         ...         ...      ...\n",
              "195  2020-12-30  1252.90002  1253.90002  1238.55005  1246.19995   139790\n",
              "196  2020-12-29  1237.00000  1254.50000  1236.55005  1250.15002   241078\n",
              "197  2020-12-28  1237.34998  1248.00000  1236.15002  1240.09998   252593\n",
              "198  2020-12-24  1265.00000  1265.00000  1226.09998  1236.34998   503008\n",
              "199  2020-12-23  1242.94995  1259.00000  1231.00000  1252.94995  1049211\n",
              "\n",
              "[200 rows x 6 columns]"
            ]
          },
          "metadata": {},
          "execution_count": 86
        }
      ]
    },
    {
      "cell_type": "code",
      "metadata": {
        "id": "8e7EXivVG_qg"
      },
      "source": [
        "data1[\"datetime\"] = data1['datetime'].str.replace('-', '').astype(float)\n",
        "data1=data1.astype(float)"
      ],
      "execution_count": null,
      "outputs": []
    },
    {
      "cell_type": "code",
      "metadata": {
        "id": "8lwxinRkCXtz",
        "colab": {
          "base_uri": "https://localhost:8080/"
        },
        "outputId": "296f6c37-9cd4-4305-f899-3af142f88824"
      },
      "source": [
        "data1.shape"
      ],
      "execution_count": null,
      "outputs": [
        {
          "output_type": "execute_result",
          "data": {
            "text/plain": [
              "(200, 6)"
            ]
          },
          "metadata": {},
          "execution_count": 94
        }
      ]
    },
    {
      "cell_type": "code",
      "metadata": {
        "colab": {
          "base_uri": "https://localhost:8080/",
          "height": 206
        },
        "id": "_d9puTg7d8te",
        "outputId": "297a09de-c5e3-4191-b80d-339cca46e6af"
      },
      "source": [
        "data1.head()"
      ],
      "execution_count": null,
      "outputs": [
        {
          "output_type": "execute_result",
          "data": {
            "text/html": [
              "<div>\n",
              "<style scoped>\n",
              "    .dataframe tbody tr th:only-of-type {\n",
              "        vertical-align: middle;\n",
              "    }\n",
              "\n",
              "    .dataframe tbody tr th {\n",
              "        vertical-align: top;\n",
              "    }\n",
              "\n",
              "    .dataframe thead th {\n",
              "        text-align: right;\n",
              "    }\n",
              "</style>\n",
              "<table border=\"1\" class=\"dataframe\">\n",
              "  <thead>\n",
              "    <tr style=\"text-align: right;\">\n",
              "      <th></th>\n",
              "      <th>datetime</th>\n",
              "      <th>open</th>\n",
              "      <th>high</th>\n",
              "      <th>low</th>\n",
              "      <th>close</th>\n",
              "      <th>volume</th>\n",
              "    </tr>\n",
              "  </thead>\n",
              "  <tbody>\n",
              "    <tr>\n",
              "      <th>0</th>\n",
              "      <td>20211013.0</td>\n",
              "      <td>1693.55005</td>\n",
              "      <td>1713.50000</td>\n",
              "      <td>1681.25000</td>\n",
              "      <td>1708.75000</td>\n",
              "      <td>130116.0</td>\n",
              "    </tr>\n",
              "    <tr>\n",
              "      <th>1</th>\n",
              "      <td>20211012.0</td>\n",
              "      <td>1684.00000</td>\n",
              "      <td>1689.00000</td>\n",
              "      <td>1662.00000</td>\n",
              "      <td>1684.80005</td>\n",
              "      <td>313692.0</td>\n",
              "    </tr>\n",
              "    <tr>\n",
              "      <th>2</th>\n",
              "      <td>20211011.0</td>\n",
              "      <td>1678.15002</td>\n",
              "      <td>1730.30005</td>\n",
              "      <td>1663.94995</td>\n",
              "      <td>1692.00000</td>\n",
              "      <td>240721.0</td>\n",
              "    </tr>\n",
              "    <tr>\n",
              "      <th>3</th>\n",
              "      <td>20211008.0</td>\n",
              "      <td>1704.00000</td>\n",
              "      <td>1731.00000</td>\n",
              "      <td>1698.19995</td>\n",
              "      <td>1723.55005</td>\n",
              "      <td>343733.0</td>\n",
              "    </tr>\n",
              "    <tr>\n",
              "      <th>4</th>\n",
              "      <td>20211007.0</td>\n",
              "      <td>1685.00000</td>\n",
              "      <td>1703.80005</td>\n",
              "      <td>1677.00000</td>\n",
              "      <td>1691.30005</td>\n",
              "      <td>289790.0</td>\n",
              "    </tr>\n",
              "  </tbody>\n",
              "</table>\n",
              "</div>"
            ],
            "text/plain": [
              "     datetime        open        high         low       close    volume\n",
              "0  20211013.0  1693.55005  1713.50000  1681.25000  1708.75000  130116.0\n",
              "1  20211012.0  1684.00000  1689.00000  1662.00000  1684.80005  313692.0\n",
              "2  20211011.0  1678.15002  1730.30005  1663.94995  1692.00000  240721.0\n",
              "3  20211008.0  1704.00000  1731.00000  1698.19995  1723.55005  343733.0\n",
              "4  20211007.0  1685.00000  1703.80005  1677.00000  1691.30005  289790.0"
            ]
          },
          "metadata": {},
          "execution_count": 95
        }
      ]
    },
    {
      "cell_type": "code",
      "metadata": {
        "colab": {
          "base_uri": "https://localhost:8080/"
        },
        "id": "vf7KLXWUWw2-",
        "outputId": "a2f3d9d1-e934-4927-aadc-bfa4042fe4d2"
      },
      "source": [
        "data1.isnull().sum()"
      ],
      "execution_count": null,
      "outputs": [
        {
          "output_type": "execute_result",
          "data": {
            "text/plain": [
              "datetime    0\n",
              "open        0\n",
              "high        0\n",
              "low         0\n",
              "close       0\n",
              "volume      0\n",
              "dtype: int64"
            ]
          },
          "metadata": {},
          "execution_count": 96
        }
      ]
    },
    {
      "cell_type": "code",
      "metadata": {
        "colab": {
          "base_uri": "https://localhost:8080/"
        },
        "id": "arYVJy8Je5KI",
        "outputId": "cf968748-33f4-4b65-9420-a8c611dc16c8"
      },
      "source": [
        "data1.info()"
      ],
      "execution_count": null,
      "outputs": [
        {
          "output_type": "stream",
          "name": "stdout",
          "text": [
            "<class 'pandas.core.frame.DataFrame'>\n",
            "RangeIndex: 200 entries, 0 to 199\n",
            "Data columns (total 6 columns):\n",
            " #   Column    Non-Null Count  Dtype  \n",
            "---  ------    --------------  -----  \n",
            " 0   datetime  200 non-null    float64\n",
            " 1   open      200 non-null    float64\n",
            " 2   high      200 non-null    float64\n",
            " 3   low       200 non-null    float64\n",
            " 4   close     200 non-null    float64\n",
            " 5   volume    200 non-null    float64\n",
            "dtypes: float64(6)\n",
            "memory usage: 9.5 KB\n",
            "None\n"
          ]
        }
      ]
    },
    {
      "cell_type": "code",
      "metadata": {
        "id": "PIJRqt7tCvkJ",
        "colab": {
          "base_uri": "https://localhost:8080/",
          "height": 300
        },
        "outputId": "1e535393-1694-4765-ad48-edc640b2fc61"
      },
      "source": [
        "data1.describe()"
      ],
      "execution_count": null,
      "outputs": [
        {
          "output_type": "execute_result",
          "data": {
            "text/html": [
              "<div>\n",
              "<style scoped>\n",
              "    .dataframe tbody tr th:only-of-type {\n",
              "        vertical-align: middle;\n",
              "    }\n",
              "\n",
              "    .dataframe tbody tr th {\n",
              "        vertical-align: top;\n",
              "    }\n",
              "\n",
              "    .dataframe thead th {\n",
              "        text-align: right;\n",
              "    }\n",
              "</style>\n",
              "<table border=\"1\" class=\"dataframe\">\n",
              "  <thead>\n",
              "    <tr style=\"text-align: right;\">\n",
              "      <th></th>\n",
              "      <th>datetime</th>\n",
              "      <th>open</th>\n",
              "      <th>high</th>\n",
              "      <th>low</th>\n",
              "      <th>close</th>\n",
              "      <th>volume</th>\n",
              "    </tr>\n",
              "  </thead>\n",
              "  <tbody>\n",
              "    <tr>\n",
              "      <th>count</th>\n",
              "      <td>2.000000e+02</td>\n",
              "      <td>200.000000</td>\n",
              "      <td>200.000000</td>\n",
              "      <td>200.000000</td>\n",
              "      <td>200.000000</td>\n",
              "      <td>2.000000e+02</td>\n",
              "    </tr>\n",
              "    <tr>\n",
              "      <th>mean</th>\n",
              "      <td>2.021026e+07</td>\n",
              "      <td>1466.010247</td>\n",
              "      <td>1479.764499</td>\n",
              "      <td>1451.827752</td>\n",
              "      <td>1465.846497</td>\n",
              "      <td>4.668771e+05</td>\n",
              "    </tr>\n",
              "    <tr>\n",
              "      <th>std</th>\n",
              "      <td>1.615762e+03</td>\n",
              "      <td>162.291973</td>\n",
              "      <td>163.194896</td>\n",
              "      <td>162.723185</td>\n",
              "      <td>163.434769</td>\n",
              "      <td>5.961372e+05</td>\n",
              "    </tr>\n",
              "    <tr>\n",
              "      <th>min</th>\n",
              "      <td>2.020122e+07</td>\n",
              "      <td>1237.000000</td>\n",
              "      <td>1248.000000</td>\n",
              "      <td>1226.099980</td>\n",
              "      <td>1236.349980</td>\n",
              "      <td>5.555100e+04</td>\n",
              "    </tr>\n",
              "    <tr>\n",
              "      <th>25%</th>\n",
              "      <td>2.021030e+07</td>\n",
              "      <td>1336.000000</td>\n",
              "      <td>1348.650025</td>\n",
              "      <td>1319.524962</td>\n",
              "      <td>1336.287538</td>\n",
              "      <td>1.576532e+05</td>\n",
              "    </tr>\n",
              "    <tr>\n",
              "      <th>50%</th>\n",
              "      <td>2.021052e+07</td>\n",
              "      <td>1392.275025</td>\n",
              "      <td>1402.900025</td>\n",
              "      <td>1379.375000</td>\n",
              "      <td>1391.625000</td>\n",
              "      <td>2.667030e+05</td>\n",
              "    </tr>\n",
              "    <tr>\n",
              "      <th>75%</th>\n",
              "      <td>2.021080e+07</td>\n",
              "      <td>1625.250000</td>\n",
              "      <td>1640.850003</td>\n",
              "      <td>1624.100005</td>\n",
              "      <td>1635.799990</td>\n",
              "      <td>4.642162e+05</td>\n",
              "    </tr>\n",
              "    <tr>\n",
              "      <th>max</th>\n",
              "      <td>2.021101e+07</td>\n",
              "      <td>1770.849980</td>\n",
              "      <td>1787.500000</td>\n",
              "      <td>1752.199950</td>\n",
              "      <td>1763.449950</td>\n",
              "      <td>4.505456e+06</td>\n",
              "    </tr>\n",
              "  </tbody>\n",
              "</table>\n",
              "</div>"
            ],
            "text/plain": [
              "           datetime         open  ...        close        volume\n",
              "count  2.000000e+02   200.000000  ...   200.000000  2.000000e+02\n",
              "mean   2.021026e+07  1466.010247  ...  1465.846497  4.668771e+05\n",
              "std    1.615762e+03   162.291973  ...   163.434769  5.961372e+05\n",
              "min    2.020122e+07  1237.000000  ...  1236.349980  5.555100e+04\n",
              "25%    2.021030e+07  1336.000000  ...  1336.287538  1.576532e+05\n",
              "50%    2.021052e+07  1392.275025  ...  1391.625000  2.667030e+05\n",
              "75%    2.021080e+07  1625.250000  ...  1635.799990  4.642162e+05\n",
              "max    2.021101e+07  1770.849980  ...  1763.449950  4.505456e+06\n",
              "\n",
              "[8 rows x 6 columns]"
            ]
          },
          "metadata": {},
          "execution_count": 102
        }
      ]
    },
    {
      "cell_type": "code",
      "metadata": {
        "colab": {
          "base_uri": "https://localhost:8080/",
          "height": 499
        },
        "id": "YIPQiFFyDMrn",
        "outputId": "e15bef58-7ab6-4f07-f4af-78ddabf7aa90"
      },
      "source": [
        "data1['open'].plot(figsize=(20,8))"
      ],
      "execution_count": null,
      "outputs": [
        {
          "output_type": "execute_result",
          "data": {
            "text/plain": [
              "<matplotlib.axes._subplots.AxesSubplot at 0x7f40b4dc30d0>"
            ]
          },
          "metadata": {},
          "execution_count": 98
        },
        {
          "output_type": "display_data",
          "data": {
            "image/png": "[encoded data removed]",
            "text/plain": [
              "<Figure size 1440x576 with 1 Axes>"
            ]
          },
          "metadata": {
            "needs_background": "light"
          }
        }
      ]
    },
    {
      "cell_type": "code",
      "metadata": {
        "id": "3SSetGZjM1w9"
      },
      "source": [
        "\n",
        "x = data1[['open', 'high', 'low', 'volume']]\n",
        "y = data1['close']"
      ],
      "execution_count": null,
      "outputs": []
    },
    {
      "cell_type": "code",
      "metadata": {
        "id": "tbRLxPwuO0Jt"
      },
      "source": [
        "from sklearn.model_selection import train_test_split\n",
        "x_train,x_test,y_train,y_test = train_test_split(x,y,train_size=0.8, random_state = 100)"
      ],
      "execution_count": null,
      "outputs": []
    },
    {
      "cell_type": "code",
      "metadata": {
        "colab": {
          "base_uri": "https://localhost:8080/"
        },
        "id": "1DbjQHu7PEeN",
        "outputId": "359715ff-8141-4d59-b893-10e20677bf40"
      },
      "source": [
        "x_train.shape"
      ],
      "execution_count": null,
      "outputs": [
        {
          "output_type": "execute_result",
          "data": {
            "text/plain": [
              "(160, 4)"
            ]
          },
          "metadata": {},
          "execution_count": 104
        }
      ]
    },
    {
      "cell_type": "code",
      "metadata": {
        "colab": {
          "base_uri": "https://localhost:8080/"
        },
        "id": "FY8OXft5PT1w",
        "outputId": "08f099b7-9789-462c-9b40-830cfdb9e14c"
      },
      "source": [
        "x_test.shape"
      ],
      "execution_count": null,
      "outputs": [
        {
          "output_type": "execute_result",
          "data": {
            "text/plain": [
              "(40, 4)"
            ]
          },
          "metadata": {},
          "execution_count": 105
        }
      ]
    },
    {
      "cell_type": "code",
      "metadata": {
        "colab": {
          "base_uri": "https://localhost:8080/"
        },
        "id": "O14LCI8sOSRl",
        "outputId": "2caed569-b78b-4458-a79e-c34e394d1431"
      },
      "source": [
        "y.head()"
      ],
      "execution_count": null,
      "outputs": [
        {
          "output_type": "execute_result",
          "data": {
            "text/plain": [
              "0    1708.75000\n",
              "1    1684.80005\n",
              "2    1692.00000\n",
              "3    1723.55005\n",
              "4    1691.30005\n",
              "Name: close, dtype: float64"
            ]
          },
          "metadata": {},
          "execution_count": 106
        }
      ]
    },
    {
      "cell_type": "code",
      "metadata": {
        "colab": {
          "base_uri": "https://localhost:8080/",
          "height": 206
        },
        "id": "9spPqffZONyo",
        "outputId": "fe525b2b-ea4a-496d-c2cf-e8dea390ab11"
      },
      "source": [
        "x.head()"
      ],
      "execution_count": null,
      "outputs": [
        {
          "output_type": "execute_result",
          "data": {
            "text/html": [
              "<div>\n",
              "<style scoped>\n",
              "    .dataframe tbody tr th:only-of-type {\n",
              "        vertical-align: middle;\n",
              "    }\n",
              "\n",
              "    .dataframe tbody tr th {\n",
              "        vertical-align: top;\n",
              "    }\n",
              "\n",
              "    .dataframe thead th {\n",
              "        text-align: right;\n",
              "    }\n",
              "</style>\n",
              "<table border=\"1\" class=\"dataframe\">\n",
              "  <thead>\n",
              "    <tr style=\"text-align: right;\">\n",
              "      <th></th>\n",
              "      <th>open</th>\n",
              "      <th>high</th>\n",
              "      <th>low</th>\n",
              "      <th>volume</th>\n",
              "    </tr>\n",
              "  </thead>\n",
              "  <tbody>\n",
              "    <tr>\n",
              "      <th>0</th>\n",
              "      <td>1693.55005</td>\n",
              "      <td>1713.50000</td>\n",
              "      <td>1681.25000</td>\n",
              "      <td>130116.0</td>\n",
              "    </tr>\n",
              "    <tr>\n",
              "      <th>1</th>\n",
              "      <td>1684.00000</td>\n",
              "      <td>1689.00000</td>\n",
              "      <td>1662.00000</td>\n",
              "      <td>313692.0</td>\n",
              "    </tr>\n",
              "    <tr>\n",
              "      <th>2</th>\n",
              "      <td>1678.15002</td>\n",
              "      <td>1730.30005</td>\n",
              "      <td>1663.94995</td>\n",
              "      <td>240721.0</td>\n",
              "    </tr>\n",
              "    <tr>\n",
              "      <th>3</th>\n",
              "      <td>1704.00000</td>\n",
              "      <td>1731.00000</td>\n",
              "      <td>1698.19995</td>\n",
              "      <td>343733.0</td>\n",
              "    </tr>\n",
              "    <tr>\n",
              "      <th>4</th>\n",
              "      <td>1685.00000</td>\n",
              "      <td>1703.80005</td>\n",
              "      <td>1677.00000</td>\n",
              "      <td>289790.0</td>\n",
              "    </tr>\n",
              "  </tbody>\n",
              "</table>\n",
              "</div>"
            ],
            "text/plain": [
              "         open        high         low    volume\n",
              "0  1693.55005  1713.50000  1681.25000  130116.0\n",
              "1  1684.00000  1689.00000  1662.00000  313692.0\n",
              "2  1678.15002  1730.30005  1663.94995  240721.0\n",
              "3  1704.00000  1731.00000  1698.19995  343733.0\n",
              "4  1685.00000  1703.80005  1677.00000  289790.0"
            ]
          },
          "metadata": {},
          "execution_count": 107
        }
      ]
    },
    {
      "cell_type": "code",
      "metadata": {
        "id": "N4CYWO6FPkFv"
      },
      "source": [
        "from sklearn.linear_model import LinearRegression\n",
        "from sklearn.metrics import confusion_matrix, accuracy_score\n",
        "LR = LinearRegression()"
      ],
      "execution_count": null,
      "outputs": []
    },
    {
      "cell_type": "code",
      "metadata": {
        "colab": {
          "base_uri": "https://localhost:8080/"
        },
        "id": "H7i249wbOX89",
        "outputId": "4f3a120c-3464-4ef0-f451-c3a547790f8f"
      },
      "source": [
        "LR.fit(x_train,y_train)"
      ],
      "execution_count": null,
      "outputs": [
        {
          "output_type": "execute_result",
          "data": {
            "text/plain": [
              "LinearRegression(copy_X=True, fit_intercept=True, n_jobs=None, normalize=False)"
            ]
          },
          "metadata": {},
          "execution_count": 109
        }
      ]
    },
    {
      "cell_type": "code",
      "metadata": {
        "colab": {
          "base_uri": "https://localhost:8080/"
        },
        "id": "OjFbFdC1QhiM",
        "outputId": "194bbd1f-24ca-45ce-a1ce-6781397c8171"
      },
      "source": [
        "print(LR.coef_)"
      ],
      "execution_count": null,
      "outputs": [
        {
          "output_type": "stream",
          "name": "stdout",
          "text": [
            "[-4.46030045e-01  7.62789883e-01  6.84332339e-01  2.00752352e-06]\n"
          ]
        }
      ]
    },
    {
      "cell_type": "code",
      "metadata": {
        "colab": {
          "base_uri": "https://localhost:8080/"
        },
        "id": "DyJFeirkQ1Vm",
        "outputId": "367f0dad-f122-49fe-dc3b-963725e25b5b"
      },
      "source": [
        "print(LR.intercept_)"
      ],
      "execution_count": null,
      "outputs": [
        {
          "output_type": "stream",
          "name": "stdout",
          "text": [
            "-3.31518806886902\n"
          ]
        }
      ]
    },
    {
      "cell_type": "code",
      "metadata": {
        "colab": {
          "base_uri": "https://localhost:8080/"
        },
        "id": "pOxzXBkDPBjt",
        "outputId": "4294ce36-595f-4c7d-f10f-185ac59e9f10"
      },
      "source": [
        "predicted = LR.predict(x_test)\n",
        "print(predicted)"
      ],
      "execution_count": null,
      "outputs": [
        {
          "output_type": "stream",
          "name": "stdout",
          "text": [
            "[1435.5887663  1330.07375931 1352.74904281 1379.59398874 1334.28257352\n",
            " 1317.81891115 1348.07554331 1404.86579942 1613.10093304 1574.69111252\n",
            " 1316.88529255 1341.09938729 1316.13273556 1258.70737516 1395.32097892\n",
            " 1248.56071222 1249.32942912 1328.21546408 1314.69848295 1704.44455124\n",
            " 1685.92459941 1566.44490285 1729.20390114 1710.41459619 1386.87272909\n",
            " 1444.60937649 1372.01770696 1478.07724137 1358.72751394 1357.40694678\n",
            " 1474.66288978 1561.73334661 1333.105866   1296.23883347 1281.50434411\n",
            " 1509.34194056 1714.03617494 1265.23541644 1249.82045111 1445.79338053]\n"
          ]
        }
      ]
    },
    {
      "cell_type": "code",
      "metadata": {
        "colab": {
          "base_uri": "https://localhost:8080/"
        },
        "id": "XXZ9FMg4RysR",
        "outputId": "c8985d58-39d6-454d-8d17-cae12299148b"
      },
      "source": [
        "predicted.shape"
      ],
      "execution_count": null,
      "outputs": [
        {
          "output_type": "execute_result",
          "data": {
            "text/plain": [
              "(40,)"
            ]
          },
          "metadata": {},
          "execution_count": 113
        }
      ]
    },
    {
      "cell_type": "code",
      "metadata": {
        "id": "PNQqAajzSOAK"
      },
      "source": [
        "dfr=pd.DataFrame(y_test,predicted)"
      ],
      "execution_count": null,
      "outputs": []
    },
    {
      "cell_type": "code",
      "metadata": {
        "id": "CmIYAAG8S36h"
      },
      "source": [
        "dfr=pd.DataFrame({'Actual Price':y_test,'Predicted Price':predicted})"
      ],
      "execution_count": null,
      "outputs": []
    },
    {
      "cell_type": "code",
      "metadata": {
        "colab": {
          "base_uri": "https://localhost:8080/"
        },
        "id": "Q7zq0bcxSnI7",
        "outputId": "a00c6ad4-825d-4e3e-a7fb-4b5c84b834c6"
      },
      "source": [
        "print(dfr)"
      ],
      "execution_count": null,
      "outputs": [
        {
          "output_type": "stream",
          "name": "stdout",
          "text": [
            "     Actual Price  Predicted Price\n",
            "126    1425.80005      1435.588766\n",
            "104    1329.15002      1330.073759\n",
            "99     1348.15002      1352.749043\n",
            "92     1379.75000      1379.593989\n",
            "111    1341.59998      1334.282574\n",
            "167    1305.00000      1317.818911\n",
            "116    1355.84998      1348.075543\n",
            "96     1404.65002      1404.865799\n",
            "52     1616.84998      1613.100933\n",
            "69     1579.09998      1574.691113\n",
            "164    1309.59998      1316.885293\n",
            "124    1361.50000      1341.099387\n",
            "182    1311.65002      1316.132736\n",
            "154    1252.34998      1258.707375\n",
            "125    1398.59998      1395.320979\n",
            "196    1250.15002      1248.560712\n",
            "194    1255.84998      1249.329429\n",
            "177    1322.59998      1328.215464\n",
            "163    1309.69995      1314.698483\n",
            "31     1697.84998      1704.444551\n",
            "11     1686.90002      1685.924599\n",
            "73     1562.59998      1566.444903\n",
            "15     1716.65002      1729.203901\n",
            "41     1712.50000      1710.414596\n",
            "97     1397.34998      1386.872729\n",
            "128    1439.80005      1444.609376\n",
            "133    1367.75000      1372.017707\n",
            "82     1480.30005      1478.077241\n",
            "139    1370.50000      1358.727514\n",
            "123    1352.55005      1357.406947\n",
            "83     1472.84998      1474.662890\n",
            "65     1562.75000      1561.733347\n",
            "151    1343.59998      1333.105866\n",
            "162    1290.09998      1296.238833\n",
            "170    1279.69995      1281.504344\n",
            "77     1502.84998      1509.341941\n",
            "32     1708.44995      1714.036175\n",
            "173    1261.44995      1265.235416\n",
            "174    1239.65002      1249.820451\n",
            "85     1446.75000      1445.793381\n"
          ]
        }
      ]
    },
    {
      "cell_type": "code",
      "metadata": {
        "id": "AFAdbHwnZ3Vv"
      },
      "source": [
        "from sklearn.metrics import confusion_matrix, accuracy_score"
      ],
      "execution_count": null,
      "outputs": []
    },
    {
      "cell_type": "code",
      "metadata": {
        "id": "ZjZ3_D7YOX_-",
        "colab": {
          "base_uri": "https://localhost:8080/"
        },
        "outputId": "610fd814-b03b-430a-cfd8-2f92fc2e851f"
      },
      "source": [
        "LR.score(x_test,y_test)"
      ],
      "execution_count": null,
      "outputs": [
        {
          "output_type": "execute_result",
          "data": {
            "text/plain": [
              "0.9975722702453794"
            ]
          },
          "metadata": {},
          "execution_count": 118
        }
      ]
    },
    {
      "cell_type": "code",
      "metadata": {
        "id": "JN0AIgh6YGWP"
      },
      "source": [
        "import math"
      ],
      "execution_count": null,
      "outputs": []
    },
    {
      "cell_type": "code",
      "metadata": {
        "colab": {
          "base_uri": "https://localhost:8080/"
        },
        "id": "wNLPiNFaXq0Z",
        "outputId": "41773862-6a00-4634-9de7-3bb2e7fcd8d5"
      },
      "source": [
        "print('Mean Absolute Error:',metrics.mean_absolute_error(y_test,predicted))"
      ],
      "execution_count": null,
      "outputs": [
        {
          "output_type": "stream",
          "name": "stdout",
          "text": [
            "Mean Absolute Error: 5.624978833386007\n"
          ]
        }
      ]
    },
    {
      "cell_type": "code",
      "metadata": {
        "colab": {
          "base_uri": "https://localhost:8080/"
        },
        "id": "uW710PccYRZ4",
        "outputId": "d7f10e5a-7b1a-4a97-bf73-66100aac324a"
      },
      "source": [
        "print('Mean Squared Error:',metrics.mean_squared_error(y_test,predicted))"
      ],
      "execution_count": null,
      "outputs": [
        {
          "output_type": "stream",
          "name": "stdout",
          "text": [
            "Mean Squared Error: 48.9654082635124\n"
          ]
        }
      ]
    },
    {
      "cell_type": "code",
      "metadata": {
        "colab": {
          "base_uri": "https://localhost:8080/"
        },
        "id": "vNCDc7kNYl0i",
        "outputId": "97e95720-0133-4eb9-dddf-a4217c0b41e6"
      },
      "source": [
        "print('Root Mean Squared Error:',math.sqrt(metrics.mean_squared_error(y_test,predicted)))"
      ],
      "execution_count": null,
      "outputs": [
        {
          "output_type": "stream",
          "name": "stdout",
          "text": [
            "Root Mean Squared Error: 6.997528725451036\n"
          ]
        }
      ]
    },
    {
      "cell_type": "code",
      "metadata": {
        "id": "d3TVPlTKY-1a"
      },
      "source": [
        "graph=dfr.head(20)"
      ],
      "execution_count": null,
      "outputs": []
    },
    {
      "cell_type": "code",
      "metadata": {
        "colab": {
          "base_uri": "https://localhost:8080/",
          "height": 291
        },
        "id": "u6A8-IMzZErB",
        "outputId": "096d8d01-b185-44db-c4b1-71740b563005"
      },
      "source": [
        "graph.plot(kind='bar')"
      ],
      "execution_count": null,
      "outputs": [
        {
          "output_type": "execute_result",
          "data": {
            "text/plain": [
              "<matplotlib.axes._subplots.AxesSubplot at 0x7f40b4d92c90>"
            ]
          },
          "metadata": {},
          "execution_count": 124
        },
        {
          "output_type": "display_data",
          "data": {
            "image/png": "[encoded data removed]",
            "text/plain": [
              "<Figure size 432x288 with 1 Axes>"
            ]
          },
          "metadata": {
            "needs_background": "light"
          }
        }
      ]
    }
  ]
}